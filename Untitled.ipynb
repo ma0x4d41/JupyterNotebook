{
 "cells": [
  {
   "cell_type": "code",
   "execution_count": 2,
   "metadata": {},
   "outputs": [],
   "source": [
    "%matplotlib widget\n",
    "import ipywidgets as widgets\n",
    "import matplotlib.pyplot as plt\n",
    "import numpy as np"
   ]
  },
  {
   "cell_type": "code",
   "execution_count": null,
   "metadata": {},
   "outputs": [],
   "source": [
    "%matplotlib inline"
   ]
  },
  {
   "cell_type": "code",
   "execution_count": null,
   "metadata": {},
   "outputs": [],
   "source": [
    "def say_my_name(name):\n",
    "    \"\"\"\n",
    "    Print the current widget value in short sentence\n",
    "    \"\"\"\n",
    "    print(f'My name is {name}')\n",
    "     \n",
    "widgets.interact(say_my_name, name=[\"Jim\", \"Emma\", \"Bond\"]);"
   ]
  },
  {
   "cell_type": "code",
   "execution_count": null,
   "metadata": {},
   "outputs": [],
   "source": [
    "def say_something(x):\n",
    "    \"\"\"\n",
    "    Print the current widget value in short sentence\n",
    "    \"\"\"\n",
    "    print(f'Widget says: {x}')\n",
    " \n",
    "widgets.interact(say_something, x=[0, 1, 2, 3])\n",
    "widgets.interact(say_something, x=(0, 10, 1))\n",
    "widgets.interact(say_something, x=(0, 10, .5))\n",
    "_ = widgets.interact(say_something, x=True)"
   ]
  },
  {
   "cell_type": "code",
   "execution_count": null,
   "metadata": {},
   "outputs": [],
   "source": [
    "def three(x, y, z):\n",
    "    return (x, y, z)\n",
    " \n",
    "_ = widgets.interact(\n",
    "    three, \n",
    "    x=(0, 10, 1), \n",
    "    y=True, \n",
    "    z=['a', 'b', 'c']\n",
    ")"
   ]
  },
  {
   "cell_type": "code",
   "execution_count": null,
   "metadata": {},
   "outputs": [],
   "source": [
    "_ = widgets.interact(\n",
    "    three, \n",
    "    x=(0, 10, 1), \n",
    "    y=True, \n",
    "    z=widgets.fixed('I am fixed')\n",
    ")"
   ]
  },
  {
   "cell_type": "code",
   "execution_count": null,
   "metadata": {},
   "outputs": [],
   "source": [
    "@widgets.interact(x=(0, 10, 1))\n",
    "def foo(x):\n",
    "    \"\"\"\n",
    "    Print the current widget value in short sentence\n",
    "    \"\"\"\n",
    "    print(f'Slider says: {x}')"
   ]
  },
  {
   "cell_type": "code",
   "execution_count": 1,
   "metadata": {},
   "outputs": [],
   "source": [
    "%matplotlib widget"
   ]
  },
  {
   "cell_type": "code",
   "execution_count": 22,
   "metadata": {},
   "outputs": [
    {
     "data": {
      "application/vnd.jupyter.widget-view+json": {
       "model_id": "38353646ae4b4944a0808bf68fe20125",
       "version_major": 2,
       "version_minor": 0
      },
      "text/plain": [
       "Canvas(toolbar=Toolbar(toolitems=[('Home', 'Reset original view', 'home', 'home'), ('Back', 'Back to previous …"
      ]
     },
     "metadata": {},
     "output_type": "display_data"
    },
    {
     "data": {
      "application/vnd.jupyter.widget-view+json": {
       "model_id": "ae40b472ceaf4be4a1a65c94bfa9a2de",
       "version_major": 2,
       "version_minor": 0
      },
      "text/plain": [
       "interactive(children=(IntSlider(value=1, description='w', max=10), FloatSlider(value=1.0, description='amp', m…"
      ]
     },
     "metadata": {},
     "output_type": "display_data"
    }
   ],
   "source": [
    "# set up plot\n",
    "fig, ax = plt.subplots(figsize=(6, 4))\n",
    "#ax.set_ylim([-4, 4])\n",
    "ax.grid(True)\n",
    " \n",
    "# generate x values\n",
    "x = np.linspace(0, 2 * np.pi, 1000)\n",
    " \n",
    " \n",
    "def my_sine(x, w, amp, phi):\n",
    "    \"\"\"\n",
    "    Return a sine for x with angular frequeny w and amplitude amp.\n",
    "    \"\"\"\n",
    "    return amp*np.sin(w * (x-phi))\n",
    " \n",
    " \n",
    "@widgets.interact(w=(0, 10, 1), amp=(0, 10, .1), phi=(0, 2*np.pi+0.01, 0.01))\n",
    "def update(w = 1.0, amp=1, phi=0):\n",
    "    \"\"\"Remove old lines from plot and plot new one\"\"\"\n",
    "    [l.remove() for l in ax.lines]\n",
    "    ax.plot(x, my_sine(x, w, amp, phi), color='C0')\n",
    "\n",
    "# output = widgets.Output()\n",
    "# with output:\n",
    "#     plt.show()"
   ]
  },
  {
   "cell_type": "code",
   "execution_count": 34,
   "metadata": {
    "scrolled": false
   },
   "outputs": [
    {
     "data": {
      "application/vnd.jupyter.widget-view+json": {
       "model_id": "b074f3f81d0c4a988fd83524d575beaf",
       "version_major": 2,
       "version_minor": 0
      },
      "text/plain": [
       "Canvas(toolbar=Toolbar(toolitems=[('Home', 'Reset original view', 'home', 'home'), ('Back', 'Back to previous …"
      ]
     },
     "metadata": {},
     "output_type": "display_data"
    },
    {
     "data": {
      "application/vnd.jupyter.widget-view+json": {
       "model_id": "469909d562444445b55d97ea0d6bf939",
       "version_major": 2,
       "version_minor": 0
      },
      "text/plain": [
       "AppLayout(children=(Canvas(layout=Layout(grid_area='center'), toolbar=Toolbar(toolitems=[('Home', 'Reset origi…"
      ]
     },
     "metadata": {},
     "output_type": "display_data"
    }
   ],
   "source": [
    "import ipywidgets as widgets\n",
    "\n",
    "from mpl_toolkits.mplot3d import axes3d\n",
    "\n",
    "# fig = plt.figure()\n",
    "# ax = fig.add_subplot(111, projection='3d')\n",
    "\n",
    "# Grab some test data.\n",
    "X, Y, Z = axes3d.get_test_data(0.05)\n",
    "\n",
    "# Plot a basic wireframe.\n",
    "# ax.plot_wireframe(X, Y, Z, rstride=10, cstride=10)\n",
    "\n",
    "# plt.show()\n",
    "\n",
    "# ensure we are interactive mode \n",
    "# this is default but if this notebook is executed out of order it may have been turned off\n",
    "plt.ion()\n",
    "\n",
    "\n",
    "fig = plt.figure()\n",
    "ax = fig.gca()\n",
    "ax.imshow(Z)\n",
    "\n",
    "widgets.AppLayout(\n",
    "    center=fig.canvas,\n",
    "#     footer=widgets.Button(icon='check'),\n",
    "    pane_heights=[0, 6, 1]\n",
    ")"
   ]
  },
  {
   "cell_type": "code",
   "execution_count": 17,
   "metadata": {},
   "outputs": [
    {
     "data": {
      "application/vnd.jupyter.widget-view+json": {
       "model_id": "1b41670e8a3a4684b8390c45ea1ce470",
       "version_major": 2,
       "version_minor": 0
      },
      "text/plain": [
       "Canvas(toolbar=Toolbar(toolitems=[('Home', 'Reset original view', 'home', 'home'), ('Back', 'Back to previous …"
      ]
     },
     "metadata": {},
     "output_type": "display_data"
    },
    {
     "ename": "ValueError",
     "evalue": "too many values to unpack (expected 1)",
     "output_type": "error",
     "traceback": [
      "\u001b[1;31m---------------------------------------------------------------------------\u001b[0m",
      "\u001b[1;31mValueError\u001b[0m                                Traceback (most recent call last)",
      "\u001b[1;32m<ipython-input-17-95f93a8376b3>\u001b[0m in \u001b[0;36m<module>\u001b[1;34m\u001b[0m\n\u001b[0;32m      5\u001b[0m \u001b[1;33m\u001b[0m\u001b[0m\n\u001b[0;32m      6\u001b[0m \u001b[0mfig\u001b[0m\u001b[1;33m,\u001b[0m \u001b[0max\u001b[0m \u001b[1;33m=\u001b[0m \u001b[0mplt\u001b[0m\u001b[1;33m.\u001b[0m\u001b[0msubplots\u001b[0m\u001b[1;33m(\u001b[0m\u001b[1;33m)\u001b[0m\u001b[1;33m\u001b[0m\u001b[1;33m\u001b[0m\u001b[0m\n\u001b[1;32m----> 7\u001b[1;33m \u001b[0mline\u001b[0m\u001b[1;33m,\u001b[0m \u001b[1;33m=\u001b[0m \u001b[0max\u001b[0m\u001b[1;33m.\u001b[0m\u001b[0mplot\u001b[0m\u001b[1;33m(\u001b[0m\u001b[0mx\u001b[0m\u001b[1;33m,\u001b[0m \u001b[0my\u001b[0m\u001b[1;33m)\u001b[0m\u001b[1;33m\u001b[0m\u001b[1;33m\u001b[0m\u001b[0m\n\u001b[0m\u001b[0;32m      8\u001b[0m \u001b[0max\u001b[0m\u001b[1;33m.\u001b[0m\u001b[0mgrid\u001b[0m\u001b[1;33m(\u001b[0m\u001b[1;32mTrue\u001b[0m\u001b[1;33m)\u001b[0m\u001b[1;33m\u001b[0m\u001b[1;33m\u001b[0m\u001b[0m\n\u001b[0;32m      9\u001b[0m \u001b[0max\u001b[0m\u001b[1;33m.\u001b[0m\u001b[0mset_xlabel\u001b[0m\u001b[1;33m(\u001b[0m\u001b[1;34m'$x_{\\mathrm{t}}$'\u001b[0m\u001b[1;33m)\u001b[0m\u001b[1;33m\u001b[0m\u001b[1;33m\u001b[0m\u001b[0m\n",
      "\u001b[1;31mValueError\u001b[0m: too many values to unpack (expected 1)"
     ]
    }
   ],
   "source": [
    "x = np.linspace(0, 2 * np.pi, 1000)\n",
    "y = np.zeros((len(x),2))\n",
    "y[:,0] = np.sin(x)\n",
    "y[:,1] = np.cos(x)\n",
    " \n",
    "fig, ax = plt.subplots()\n",
    "line, = ax.plot(x, y)\n",
    "ax.grid(True)\n",
    "ax.set_xlabel('$x_{\\mathrm{t}}$')\n",
    "ax.legend(('sin','cos'))\n",
    " \n",
    "def update(change):\n",
    "    line.set_ydata(np.sin(change.new * x))\n",
    "    fig.canvas.draw()\n",
    "     \n",
    "int_slider = widgets.IntSlider(\n",
    "    value=1, \n",
    "    min=0, max=10, step=1,\n",
    "    description='$\\omega$',\n",
    "    continuous_update=True\n",
    ")\n",
    "int_slider.observe(update, 'value')\n",
    "int_slider"
   ]
  },
  {
   "cell_type": "code",
   "execution_count": 17,
   "metadata": {},
   "outputs": [
    {
     "name": "stdout",
     "output_type": "stream",
     "text": [
      "  City  1996  1997  1998  1999\n",
      "0    a     1     4     7     0\n",
      "1    b     2     0     8     5\n",
      "2    c     7     6     6     3\n",
      "3    d     5     3     9     0\n",
      "City  a  b  c  d\n",
      "1996  1  2  7  5\n",
      "1997  4  0  6  3\n",
      "1998  7  8  6  9\n",
      "1999  0  5  3  0\n"
     ]
    },
    {
     "data": {
      "application/vnd.jupyter.widget-view+json": {
       "model_id": "b02b85274b404adb86b5bc48740aeccf",
       "version_major": 2,
       "version_minor": 0
      },
      "text/plain": [
       "Canvas(toolbar=Toolbar(toolitems=[('Home', 'Reset original view', 'home', 'home'), ('Back', 'Back to previous …"
      ]
     },
     "metadata": {},
     "output_type": "display_data"
    },
    {
     "data": {
      "application/vnd.jupyter.widget-view+json": {
       "model_id": "d7a1d87cf23a4207837b2eb7b09d7f5e",
       "version_major": 2,
       "version_minor": 0
      },
      "text/plain": [
       "Canvas(toolbar=Toolbar(toolitems=[('Home', 'Reset original view', 'home', 'home'), ('Back', 'Back to previous …"
      ]
     },
     "metadata": {},
     "output_type": "display_data"
    },
    {
     "ename": "AttributeError",
     "evalue": "'AxesSubplot' object has no attribute '__key__'",
     "output_type": "error",
     "traceback": [
      "\u001b[1;31m---------------------------------------------------------------------------\u001b[0m",
      "\u001b[1;31mAttributeError\u001b[0m                            Traceback (most recent call last)",
      "\u001b[1;32m<ipython-input-17-6eeaf1bfbfd1>\u001b[0m in \u001b[0;36m<module>\u001b[1;34m\u001b[0m\n\u001b[0;32m     17\u001b[0m \u001b[1;31m# fig.canvas.toolbar_visible = False\u001b[0m\u001b[1;33m\u001b[0m\u001b[1;33m\u001b[0m\u001b[1;33m\u001b[0m\u001b[0m\n\u001b[0;32m     18\u001b[0m \u001b[1;31m# fig.canvas.capture_scroll = True\u001b[0m\u001b[1;33m\u001b[0m\u001b[1;33m\u001b[0m\u001b[1;33m\u001b[0m\u001b[0m\n\u001b[1;32m---> 19\u001b[1;33m \u001b[0mprint\u001b[0m\u001b[1;33m(\u001b[0m\u001b[0max\u001b[0m\u001b[1;33m.\u001b[0m\u001b[0m__key__\u001b[0m\u001b[1;33m)\u001b[0m\u001b[1;33m\u001b[0m\u001b[1;33m\u001b[0m\u001b[0m\n\u001b[0m\u001b[0;32m     20\u001b[0m \u001b[1;31m# widgets.HBox([fig.canvas,fig.canvas])\u001b[0m\u001b[1;33m\u001b[0m\u001b[1;33m\u001b[0m\u001b[1;33m\u001b[0m\u001b[0m\n",
      "\u001b[1;31mAttributeError\u001b[0m: 'AxesSubplot' object has no attribute '__key__'"
     ]
    }
   ],
   "source": [
    "import pandas as pd\n",
    "import matplotlib.pyplot as plt\n",
    "import ipywidgets as widgets\n",
    "\n",
    "\n",
    "data = pd.DataFrame({'City':['a','b','c','d'],\n",
    "                            '1996':[1,2,7,5],\n",
    "                            '1997':[4,0,6,3],\n",
    "                            '1998':[7,8,6,9],\n",
    "                            '1999':[0,5,3,0]})\n",
    "\n",
    "print (data)\n",
    "print (data.set_index('City').T)\n",
    "\n",
    "fig = plt.figure()\n",
    "ax = data.set_index('City').T.plot()\n",
    "# fig.canvas.toolbar_visible = False\n",
    "# fig.canvas.capture_scroll = True\n",
    "print(ax.__key__)\n",
    "# widgets.HBox([fig.canvas,fig.canvas])\n"
   ]
  },
  {
   "cell_type": "code",
   "execution_count": null,
   "metadata": {},
   "outputs": [],
   "source": [
    "import random\n",
    "import matplotlib.pyplot as plt\n",
    "\n",
    "x = range(1, 101)\n",
    "y1 = [random.randint(1, 100) for _ in range(len(x))]\n",
    "y2 = [random.randint(1, 100) for _ in range(len(x))]\n",
    "\n",
    "fig = plt.figure()\n",
    "ax = fig.add_subplot(111)    # The big subplot\n",
    "ax1 = fig.add_subplot(211)\n",
    "ax2 = fig.add_subplot(212)\n",
    "\n",
    "# Turn off axis lines and ticks of the big subplot\n",
    "ax.spines['top'].set_color('none')\n",
    "ax.spines['bottom'].set_color('none')\n",
    "ax.spines['left'].set_color('none')\n",
    "ax.spines['right'].set_color('none')\n",
    "ax.tick_params(labelcolor='w', top=False, bottom=False, left=False, right=False)\n",
    "\n",
    "ax1.loglog(x, y1)\n",
    "ax2.loglog(x, y2)\n",
    "\n",
    "# Set common labels\n",
    "ax.set_xlabel('common xlabel')\n",
    "ax.set_ylabel('common ylabel')"
   ]
  },
  {
   "cell_type": "code",
   "execution_count": null,
   "metadata": {},
   "outputs": [],
   "source": [
    "sl1 = widgets.IntSlider(description='slider 1', min=0, max=10)\n",
    "sl2 = widgets.IntSlider(description='slider 2', min=0, max=10)\n",
    " \n",
    "link = widgets.link(\n",
    "    (sl1, 'value'), \n",
    "    (sl2, 'min')\n",
    ")\n",
    " \n",
    "sl1.value = 5\n",
    "widgets.VBox([sl1, sl2])"
   ]
  }
 ],
 "metadata": {
  "kernelspec": {
   "display_name": "Python 3",
   "language": "python",
   "name": "python3"
  },
  "language_info": {
   "codemirror_mode": {
    "name": "ipython",
    "version": 3
   },
   "file_extension": ".py",
   "mimetype": "text/x-python",
   "name": "python",
   "nbconvert_exporter": "python",
   "pygments_lexer": "ipython3",
   "version": "3.7.4"
  },
  "widgets": {
   "application/vnd.jupyter.widget-state+json": {
    "state": {
     "00385bdda365407d92df792ddeb0e329": {
      "model_module": "@jupyter-widgets/base",
      "model_module_version": "1.2.0",
      "model_name": "LayoutModel",
      "state": {}
     },
     "0038d68b174c4331bb843cd446827473": {
      "model_module": "@jupyter-widgets/base",
      "model_module_version": "1.2.0",
      "model_name": "LayoutModel",
      "state": {}
     },
     "00406ad07986451a8e10b2496e2f21e8": {
      "model_module": "@jupyter-widgets/base",
      "model_module_version": "1.2.0",
      "model_name": "LayoutModel",
      "state": {}
     },
     "00f3b96ccda34d6ba64626d2a99ac0bb": {
      "model_module": "@jupyter-widgets/output",
      "model_module_version": "1.0.0",
      "model_name": "OutputModel",
      "state": {
       "layout": "IPY_MODEL_5279d8f3f2b848338773aaa253174984"
      }
     },
     "0266bd72e5744dc499cedd6a33ce1877": {
      "model_module": "@jupyter-widgets/controls",
      "model_module_version": "1.5.0",
      "model_name": "FloatSliderModel",
      "state": {
       "description": "amp",
       "layout": "IPY_MODEL_aabb9005a91a463badaeb5a4a24be2ab",
       "max": 10,
       "step": 0.1,
       "style": "IPY_MODEL_2865fae493f840f0953ecd6aa98c13bd",
       "value": 4.7
      }
     },
     "02d962de36a44937877d06ffc8016929": {
      "model_module": "jupyter-matplotlib",
      "model_module_version": "^0.7.4",
      "model_name": "MPLCanvasModel",
      "state": {
       "_cursor": "default",
       "_figure_label": "Figure 2",
       "_height": 400,
       "_image_mode": "diff",
       "_width": 600,
       "layout": "IPY_MODEL_b6546c61b36d4f35a1e1c6efaeed67a1",
       "toolbar": "IPY_MODEL_8412b04667f74cc39bd1c1fe8705e9ba",
       "toolbar_position": "left"
      }
     },
     "05277099adf146eabe62285874261be2": {
      "model_module": "@jupyter-widgets/base",
      "model_module_version": "1.2.0",
      "model_name": "LayoutModel",
      "state": {}
     },
     "05946517903d4c09ad0cfd5d910a57f0": {
      "model_module": "@jupyter-widgets/controls",
      "model_module_version": "1.5.0",
      "model_name": "SliderStyleModel",
      "state": {
       "description_width": ""
      }
     },
     "06604ecce38e4684b753156b279db763": {
      "model_module": "@jupyter-widgets/controls",
      "model_module_version": "1.5.0",
      "model_name": "VBoxModel",
      "state": {
       "_dom_classes": [
        "widget-interact"
       ],
       "children": [
        "IPY_MODEL_977c195f20f747edbf29aa6f1219758d",
        "IPY_MODEL_44e5fc9038cf4f19b9ce40f88f1ea535"
       ],
       "layout": "IPY_MODEL_62aa9452ee6f4146827d623db725958d"
      }
     },
     "06b904ab967c40c79347a0d52d332a52": {
      "model_module": "jupyter-matplotlib",
      "model_module_version": "^0.7.4",
      "model_name": "ToolbarModel",
      "state": {
       "layout": "IPY_MODEL_654af4e867704ee492410c5f3a68f4cb",
       "toolitems": [
        [
         "Home",
         "Reset original view",
         "home",
         "home"
        ],
        [
         "Back",
         "Back to previous view",
         "arrow-left",
         "back"
        ],
        [
         "Forward",
         "Forward to next view",
         "arrow-right",
         "forward"
        ],
        [
         "Pan",
         "Left button pans, Right button zooms\nx/y fixes axis, CTRL fixes aspect",
         "arrows",
         "pan"
        ],
        [
         "Zoom",
         "Zoom to rectangle\nx/y fixes axis, CTRL fixes aspect",
         "square-o",
         "zoom"
        ],
        [
         "Download",
         "Download plot",
         "floppy-o",
         "save_figure"
        ]
       ]
      }
     },
     "06bc1a77515447b6b3317defab4afb45": {
      "model_module": "@jupyter-widgets/controls",
      "model_module_version": "1.5.0",
      "model_name": "SliderStyleModel",
      "state": {
       "description_width": ""
      }
     },
     "06d3453930f34a7a8db3c9cc9b5da43a": {
      "model_module": "@jupyter-widgets/base",
      "model_module_version": "1.2.0",
      "model_name": "LayoutModel",
      "state": {}
     },
     "07a7d325414f4f9489f5e3f81a79db9d": {
      "model_module": "@jupyter-widgets/base",
      "model_module_version": "1.2.0",
      "model_name": "LayoutModel",
      "state": {}
     },
     "089784a3e4b648e8a708061fcef9eedc": {
      "model_module": "jupyter-matplotlib",
      "model_module_version": "^0.7.4",
      "model_name": "ToolbarModel",
      "state": {
       "layout": "IPY_MODEL_47b7480bbce34b31bf9b8f72d3d3d612",
       "toolitems": [
        [
         "Home",
         "Reset original view",
         "home",
         "home"
        ],
        [
         "Back",
         "Back to previous view",
         "arrow-left",
         "back"
        ],
        [
         "Forward",
         "Forward to next view",
         "arrow-right",
         "forward"
        ],
        [
         "Pan",
         "Left button pans, Right button zooms\nx/y fixes axis, CTRL fixes aspect",
         "arrows",
         "pan"
        ],
        [
         "Zoom",
         "Zoom to rectangle\nx/y fixes axis, CTRL fixes aspect",
         "square-o",
         "zoom"
        ],
        [
         "Download",
         "Download plot",
         "floppy-o",
         "save_figure"
        ]
       ]
      }
     },
     "0ab9c36824404a7bbda52a112701bcf1": {
      "model_module": "jupyter-matplotlib",
      "model_module_version": "^0.7.4",
      "model_name": "MPLCanvasModel",
      "state": {
       "layout": "IPY_MODEL_4e1d46bc1b7e47089e1446ba54390bbe",
       "toolbar": "IPY_MODEL_a6c6d2023aa543f391c8c7f1357033fc",
       "toolbar_position": "left"
      }
     },
     "0af2e152b4614b1285935479b1ba3c49": {
      "model_module": "@jupyter-widgets/controls",
      "model_module_version": "1.5.0",
      "model_name": "SliderStyleModel",
      "state": {
       "description_width": ""
      }
     },
     "0b62b252cdc14e5786ab63b6a2ffdf6e": {
      "model_module": "@jupyter-widgets/base",
      "model_module_version": "1.2.0",
      "model_name": "LayoutModel",
      "state": {}
     },
     "0ce5948d312e43cf806d8c73fa1a009e": {
      "model_module": "@jupyter-widgets/controls",
      "model_module_version": "1.5.0",
      "model_name": "SliderStyleModel",
      "state": {
       "description_width": ""
      }
     },
     "0e2403e558f4442697338653c8329383": {
      "model_module": "@jupyter-widgets/base",
      "model_module_version": "1.2.0",
      "model_name": "LayoutModel",
      "state": {}
     },
     "0e46d550ee7f4b0cb1f535981edfe729": {
      "model_module": "@jupyter-widgets/base",
      "model_module_version": "1.2.0",
      "model_name": "LayoutModel",
      "state": {}
     },
     "0e8cbd7523314dfab1d768d25a25a257": {
      "model_module": "@jupyter-widgets/controls",
      "model_module_version": "1.5.0",
      "model_name": "SliderStyleModel",
      "state": {
       "description_width": ""
      }
     },
     "0f1b67437ec04ab9bd3f5696b9e51c65": {
      "model_module": "@jupyter-widgets/controls",
      "model_module_version": "1.5.0",
      "model_name": "DescriptionStyleModel",
      "state": {
       "description_width": ""
      }
     },
     "107b4a339dc94d6197ac038acd4dbef2": {
      "model_module": "jupyter-matplotlib",
      "model_module_version": "^0.7.4",
      "model_name": "MPLCanvasModel",
      "state": {
       "_cursor": "default",
       "_figure_label": "Figure 9",
       "_height": 480,
       "_image_mode": "diff",
       "_width": 640,
       "layout": "IPY_MODEL_7637dec80ffb4d65922969038c9c3be9",
       "toolbar": "IPY_MODEL_f96d18fecc2c47b5bf4f456ba6d28d64",
       "toolbar_position": "left"
      }
     },
     "11244d9272a84354a10a6d264c74e665": {
      "model_module": "@jupyter-widgets/base",
      "model_module_version": "1.2.0",
      "model_name": "LayoutModel",
      "state": {}
     },
     "151c9be2e2c040dfb06efe702a7b45e5": {
      "model_module": "@jupyter-widgets/base",
      "model_module_version": "1.2.0",
      "model_name": "LayoutModel",
      "state": {}
     },
     "1643ee315a6945959ea210017cd1a323": {
      "model_module": "jupyter-matplotlib",
      "model_module_version": "^0.7.4",
      "model_name": "MPLCanvasModel",
      "state": {
       "_cursor": "default",
       "_figure_label": "Figure 22",
       "_height": 480,
       "_image_mode": "diff",
       "_width": 640,
       "layout": "IPY_MODEL_3dbffe0982184fdbb44bb81dd4b40443",
       "toolbar": "IPY_MODEL_b0b243c384314b68b5c447f2b90161fb",
       "toolbar_position": "left"
      }
     },
     "17327064c9184ca28b68d2f234fc3232": {
      "model_module": "@jupyter-widgets/controls",
      "model_module_version": "1.5.0",
      "model_name": "VBoxModel",
      "state": {
       "_dom_classes": [
        "widget-interact"
       ],
       "children": [
        "IPY_MODEL_dd3f0f0a9a03432dac46410650928c9c",
        "IPY_MODEL_0266bd72e5744dc499cedd6a33ce1877",
        "IPY_MODEL_47476dc3d9484c439a37d5b16954954c",
        "IPY_MODEL_725eef25caf54b718237eb7c05d78fd2"
       ],
       "layout": "IPY_MODEL_a43e89ef127245bd9c54b19f19acb808"
      }
     },
     "1740ee8a9f714b4cb5c8089416e32845": {
      "model_module": "@jupyter-widgets/controls",
      "model_module_version": "1.5.0",
      "model_name": "FloatSliderModel",
      "state": {
       "description": "phi",
       "layout": "IPY_MODEL_b45984b131f64e4baee930f03aa9e11a",
       "max": 6.293185307179586,
       "step": 0.01,
       "style": "IPY_MODEL_0af2e152b4614b1285935479b1ba3c49",
       "value": 0.88
      }
     },
     "174d8400b131469abbba9f3615d8f6d7": {
      "model_module": "@jupyter-widgets/controls",
      "model_module_version": "1.5.0",
      "model_name": "FloatSliderModel",
      "state": {
       "description": "amp",
       "layout": "IPY_MODEL_00406ad07986451a8e10b2496e2f21e8",
       "max": 10,
       "step": 0.1,
       "style": "IPY_MODEL_3c00c39fb29441e7910ec4165d582f1a",
       "value": 3.3
      }
     },
     "177fc92d149d4168a3ea8cc3c5598a2e": {
      "model_module": "@jupyter-widgets/base",
      "model_module_version": "1.2.0",
      "model_name": "LayoutModel",
      "state": {}
     },
     "17b40215b46b4b5cbe5746d1fb30d33d": {
      "model_module": "jupyter-matplotlib",
      "model_module_version": "^0.7.4",
      "model_name": "ToolbarModel",
      "state": {
       "layout": "IPY_MODEL_c21735359a9742e9b7be7d7639331e58",
       "toolitems": [
        [
         "Home",
         "Reset original view",
         "home",
         "home"
        ],
        [
         "Back",
         "Back to previous view",
         "arrow-left",
         "back"
        ],
        [
         "Forward",
         "Forward to next view",
         "arrow-right",
         "forward"
        ],
        [
         "Pan",
         "Left button pans, Right button zooms\nx/y fixes axis, CTRL fixes aspect",
         "arrows",
         "pan"
        ],
        [
         "Zoom",
         "Zoom to rectangle\nx/y fixes axis, CTRL fixes aspect",
         "square-o",
         "zoom"
        ],
        [
         "Download",
         "Download plot",
         "floppy-o",
         "save_figure"
        ]
       ]
      }
     },
     "199535800d2d4fb89aa6aec9c7b416b3": {
      "model_module": "@jupyter-widgets/base",
      "model_module_version": "1.2.0",
      "model_name": "LayoutModel",
      "state": {}
     },
     "1a2845e72c4e4f2f8ad5eb14d8f86ed3": {
      "model_module": "jupyter-matplotlib",
      "model_module_version": "^0.7.4",
      "model_name": "ToolbarModel",
      "state": {
       "layout": "IPY_MODEL_acacbe7c8e2d4f05af32d1fc666648e0",
       "toolitems": [
        [
         "Home",
         "Reset original view",
         "home",
         "home"
        ],
        [
         "Back",
         "Back to previous view",
         "arrow-left",
         "back"
        ],
        [
         "Forward",
         "Forward to next view",
         "arrow-right",
         "forward"
        ],
        [
         "Pan",
         "Left button pans, Right button zooms\nx/y fixes axis, CTRL fixes aspect",
         "arrows",
         "pan"
        ],
        [
         "Zoom",
         "Zoom to rectangle\nx/y fixes axis, CTRL fixes aspect",
         "square-o",
         "zoom"
        ],
        [
         "Download",
         "Download plot",
         "floppy-o",
         "save_figure"
        ]
       ]
      }
     },
     "1a4e6d6c2ea74d3b9b228118ec44aafc": {
      "model_module": "@jupyter-widgets/controls",
      "model_module_version": "1.5.0",
      "model_name": "SliderStyleModel",
      "state": {
       "description_width": ""
      }
     },
     "1a950d74e20f4f6cb433856078853ff6": {
      "model_module": "@jupyter-widgets/base",
      "model_module_version": "1.2.0",
      "model_name": "LayoutModel",
      "state": {}
     },
     "1adc99ac59434de99c7112fba712def1": {
      "model_module": "@jupyter-widgets/controls",
      "model_module_version": "1.5.0",
      "model_name": "FloatSliderModel",
      "state": {
       "description": "phi",
       "layout": "IPY_MODEL_e8a669b8e0334d9d92a4292b26b41c4f",
       "max": 6.293185307179586,
       "step": 0.01,
       "style": "IPY_MODEL_52523c8682e944c68aaf7f5fec06f7d1"
      }
     },
     "1c297afd439e43d0b5ffeb98a4981022": {
      "model_module": "@jupyter-widgets/base",
      "model_module_version": "1.2.0",
      "model_name": "LayoutModel",
      "state": {}
     },
     "1c8692161eae4bd2b645865b15187512": {
      "model_module": "@jupyter-widgets/base",
      "model_module_version": "1.2.0",
      "model_name": "LayoutModel",
      "state": {}
     },
     "1cfe61b29d234fa68dcb80231856eb8f": {
      "model_module": "@jupyter-widgets/base",
      "model_module_version": "1.2.0",
      "model_name": "LayoutModel",
      "state": {}
     },
     "1da0592bca4a49d79d97416f6925612e": {
      "model_module": "@jupyter-widgets/controls",
      "model_module_version": "1.5.0",
      "model_name": "VBoxModel",
      "state": {
       "_dom_classes": [
        "widget-interact"
       ],
       "children": [
        "IPY_MODEL_4e3f652ca1cd4eb98e14502b3c949eb3",
        "IPY_MODEL_aa0756082f704117bbe2d6be11145ea7"
       ],
       "layout": "IPY_MODEL_417a473c2d4f4eb992034be6a7111084"
      }
     },
     "1e8dc758fb4540d19ec458d42d88e606": {
      "model_module": "@jupyter-widgets/controls",
      "model_module_version": "1.5.0",
      "model_name": "SliderStyleModel",
      "state": {
       "description_width": ""
      }
     },
     "1ea9fade67384c3fb708ac5ac86cf0d7": {
      "model_module": "jupyter-matplotlib",
      "model_module_version": "^0.7.4",
      "model_name": "MPLCanvasModel",
      "state": {
       "_cursor": "default",
       "_figure_label": "Figure 3",
       "_height": 400,
       "_image_mode": "diff",
       "_width": 600,
       "layout": "IPY_MODEL_0e46d550ee7f4b0cb1f535981edfe729",
       "toolbar": "IPY_MODEL_06b904ab967c40c79347a0d52d332a52",
       "toolbar_position": "left"
      }
     },
     "1f31c39b308741d5b6991b92356e6455": {
      "model_module": "jupyter-matplotlib",
      "model_module_version": "^0.7.4",
      "model_name": "MPLCanvasModel",
      "state": {
       "layout": "IPY_MODEL_685d3fb6ca6d4591ae112b474a111242",
       "toolbar": "IPY_MODEL_3f711a5db9ff481a9aac920e9b561574",
       "toolbar_position": "left"
      }
     },
     "1f6ec33d8b974040b3b1920859aca859": {
      "model_module": "@jupyter-widgets/base",
      "model_module_version": "1.2.0",
      "model_name": "LayoutModel",
      "state": {}
     },
     "1f898c0745fe4f05b298d098b9ef2304": {
      "model_module": "@jupyter-widgets/base",
      "model_module_version": "1.2.0",
      "model_name": "LayoutModel",
      "state": {}
     },
     "1f97704f00424d33947facd2bed2460c": {
      "model_module": "@jupyter-widgets/base",
      "model_module_version": "1.2.0",
      "model_name": "LayoutModel",
      "state": {}
     },
     "2178bd11bd3d4544b35a43c485dcca76": {
      "model_module": "@jupyter-widgets/controls",
      "model_module_version": "1.5.0",
      "model_name": "DropdownModel",
      "state": {
       "_options_labels": [
        "0",
        "1",
        "2",
        "3"
       ],
       "description": "x",
       "index": 3,
       "layout": "IPY_MODEL_11244d9272a84354a10a6d264c74e665",
       "style": "IPY_MODEL_abbfa57fd79a4877b68ee292cb919b62"
      }
     },
     "2244a6357ac646e4938cd1cb139ce7c4": {
      "model_module": "@jupyter-widgets/base",
      "model_module_version": "1.2.0",
      "model_name": "LayoutModel",
      "state": {}
     },
     "2313a09498854948ba768ea7a0082a66": {
      "model_module": "@jupyter-widgets/controls",
      "model_module_version": "1.5.0",
      "model_name": "VBoxModel",
      "state": {
       "_dom_classes": [
        "widget-interact"
       ],
       "children": [
        "IPY_MODEL_309eb53e69d14de6a671d299e52c0c94",
        "IPY_MODEL_3e8bd049506946b2b21516f5832e3b69"
       ],
       "layout": "IPY_MODEL_07a7d325414f4f9489f5e3f81a79db9d"
      }
     },
     "23f5bcea41d044cba9b1b95a3e8cfc33": {
      "model_module": "@jupyter-widgets/base",
      "model_module_version": "1.2.0",
      "model_name": "LayoutModel",
      "state": {}
     },
     "254465c614034e77b587253cf367cf40": {
      "model_module": "jupyter-matplotlib",
      "model_module_version": "^0.7.4",
      "model_name": "ToolbarModel",
      "state": {
       "layout": "IPY_MODEL_40bb09b008b8417c97f595bc70d805bf",
       "toolitems": [
        [
         "Home",
         "Reset original view",
         "home",
         "home"
        ],
        [
         "Back",
         "Back to previous view",
         "arrow-left",
         "back"
        ],
        [
         "Forward",
         "Forward to next view",
         "arrow-right",
         "forward"
        ],
        [
         "Pan",
         "Left button pans, Right button zooms\nx/y fixes axis, CTRL fixes aspect",
         "arrows",
         "pan"
        ],
        [
         "Zoom",
         "Zoom to rectangle\nx/y fixes axis, CTRL fixes aspect",
         "square-o",
         "zoom"
        ],
        [
         "Download",
         "Download plot",
         "floppy-o",
         "save_figure"
        ]
       ]
      }
     },
     "2670d24b20c147b7be207bb135450e86": {
      "model_module": "@jupyter-widgets/base",
      "model_module_version": "1.2.0",
      "model_name": "LayoutModel",
      "state": {}
     },
     "26a8db714f0e45988eb44b002554fab2": {
      "model_module": "@jupyter-widgets/controls",
      "model_module_version": "1.5.0",
      "model_name": "DescriptionStyleModel",
      "state": {
       "description_width": ""
      }
     },
     "27da4380075d4d10b367a91b18bf0481": {
      "model_module": "@jupyter-widgets/controls",
      "model_module_version": "1.5.0",
      "model_name": "SliderStyleModel",
      "state": {
       "description_width": ""
      }
     },
     "2865fae493f840f0953ecd6aa98c13bd": {
      "model_module": "@jupyter-widgets/controls",
      "model_module_version": "1.5.0",
      "model_name": "SliderStyleModel",
      "state": {
       "description_width": ""
      }
     },
     "2b17cd23bf31495489354a6b074ffe31": {
      "model_module": "@jupyter-widgets/base",
      "model_module_version": "1.2.0",
      "model_name": "LayoutModel",
      "state": {}
     },
     "2b3d5f96879c46c7834b27e8c42f3935": {
      "model_module": "@jupyter-widgets/base",
      "model_module_version": "1.2.0",
      "model_name": "LayoutModel",
      "state": {}
     },
     "2bfd8908d0694a64a6f37a4b9d074277": {
      "model_module": "@jupyter-widgets/controls",
      "model_module_version": "1.5.0",
      "model_name": "CheckboxModel",
      "state": {
       "description": "y",
       "disabled": false,
       "layout": "IPY_MODEL_fdc3d11dc6624f32ae4164234d6041d8",
       "style": "IPY_MODEL_26a8db714f0e45988eb44b002554fab2",
       "value": true
      }
     },
     "2ce980ff5f6d4aa399196e4d61df87e7": {
      "model_module": "@jupyter-widgets/base",
      "model_module_version": "1.2.0",
      "model_name": "LayoutModel",
      "state": {}
     },
     "2d1c1e5cd9284444be1eb0f81cb2e3e2": {
      "model_module": "@jupyter-widgets/controls",
      "model_module_version": "1.5.0",
      "model_name": "FloatSliderModel",
      "state": {
       "description": "amp",
       "layout": "IPY_MODEL_648319a9e38146c086ed5d7095286390",
       "max": 4,
       "step": 0.1,
       "style": "IPY_MODEL_1e8dc758fb4540d19ec458d42d88e606",
       "value": 0.8
      }
     },
     "2d46d08101c1405a9d4a208b8f779065": {
      "model_module": "@jupyter-widgets/base",
      "model_module_version": "1.2.0",
      "model_name": "LayoutModel",
      "state": {}
     },
     "2fc84bde0498417bbf8798f631511af3": {
      "model_module": "@jupyter-widgets/base",
      "model_module_version": "1.2.0",
      "model_name": "LayoutModel",
      "state": {}
     },
     "309eb53e69d14de6a671d299e52c0c94": {
      "model_module": "@jupyter-widgets/controls",
      "model_module_version": "1.5.0",
      "model_name": "DropdownModel",
      "state": {
       "_options_labels": [
        "Jim",
        "Emma",
        "Bond"
       ],
       "description": "name",
       "index": 0,
       "layout": "IPY_MODEL_8d8dfa01b4ec4900a82384e89cba3e94",
       "style": "IPY_MODEL_59fe17e0fab84a7c94fbd57cfe8e85c2"
      }
     },
     "3108933310384bef865db690982cd71e": {
      "model_module": "@jupyter-widgets/controls",
      "model_module_version": "1.5.0",
      "model_name": "SliderStyleModel",
      "state": {
       "description_width": ""
      }
     },
     "31740c81762944c8b94a38a5ebcb14cb": {
      "model_module": "jupyter-matplotlib",
      "model_module_version": "^0.7.4",
      "model_name": "ToolbarModel",
      "state": {
       "layout": "IPY_MODEL_f3442d8682154e178f92cc985b284ca1",
       "toolitems": [
        [
         "Home",
         "Reset original view",
         "home",
         "home"
        ],
        [
         "Back",
         "Back to previous view",
         "arrow-left",
         "back"
        ],
        [
         "Forward",
         "Forward to next view",
         "arrow-right",
         "forward"
        ],
        [
         "Pan",
         "Left button pans, Right button zooms\nx/y fixes axis, CTRL fixes aspect",
         "arrows",
         "pan"
        ],
        [
         "Zoom",
         "Zoom to rectangle\nx/y fixes axis, CTRL fixes aspect",
         "square-o",
         "zoom"
        ],
        [
         "Download",
         "Download plot",
         "floppy-o",
         "save_figure"
        ]
       ]
      }
     },
     "31e0c8956d62472e8b14d222f379daee": {
      "model_module": "jupyter-matplotlib",
      "model_module_version": "^0.7.4",
      "model_name": "ToolbarModel",
      "state": {
       "layout": "IPY_MODEL_1a950d74e20f4f6cb433856078853ff6",
       "toolitems": [
        [
         "Home",
         "Reset original view",
         "home",
         "home"
        ],
        [
         "Back",
         "Back to previous view",
         "arrow-left",
         "back"
        ],
        [
         "Forward",
         "Forward to next view",
         "arrow-right",
         "forward"
        ],
        [
         "Pan",
         "Left button pans, Right button zooms\nx/y fixes axis, CTRL fixes aspect",
         "arrows",
         "pan"
        ],
        [
         "Zoom",
         "Zoom to rectangle\nx/y fixes axis, CTRL fixes aspect",
         "square-o",
         "zoom"
        ],
        [
         "Download",
         "Download plot",
         "floppy-o",
         "save_figure"
        ]
       ]
      }
     },
     "3407881ef4da4cdd83e4ceb94e941a9d": {
      "model_module": "@jupyter-widgets/base",
      "model_module_version": "1.2.0",
      "model_name": "LayoutModel",
      "state": {}
     },
     "3416eed6874247cf88e68597c39234c6": {
      "model_module": "@jupyter-widgets/controls",
      "model_module_version": "1.5.0",
      "model_name": "VBoxModel",
      "state": {
       "_dom_classes": [
        "widget-interact"
       ],
       "children": [
        "IPY_MODEL_83e1c798756a4cb9a3a22cf49f836f67",
        "IPY_MODEL_e4d35fb80ebe4e449a6bdcf936d28e4c"
       ],
       "layout": "IPY_MODEL_6a4d722c0b1242b2800c259ff8209bc1"
      }
     },
     "345efb939427471abd7fe0349e5ce3b3": {
      "model_module": "@jupyter-widgets/output",
      "model_module_version": "1.0.0",
      "model_name": "OutputModel",
      "state": {
       "layout": "IPY_MODEL_ca4a8c452a2b4d0a82bba7e3d06bccc7",
       "outputs": [
        {
         "name": "stdout",
         "output_type": "stream",
         "text": "Widget says: True\n"
        }
       ]
      }
     },
     "35e38ab1c3504131aa5839b5bbb869a8": {
      "model_module": "@jupyter-widgets/base",
      "model_module_version": "1.2.0",
      "model_name": "LayoutModel",
      "state": {}
     },
     "376c4a8369fb4561b533ff507408b8cf": {
      "model_module": "@jupyter-widgets/controls",
      "model_module_version": "1.5.0",
      "model_name": "IntSliderModel",
      "state": {
       "continuous_update": false,
       "description": "$\\omega$",
       "layout": "IPY_MODEL_c0ae5102be1b4159a5eafe04f10e63d2",
       "max": 10,
       "style": "IPY_MODEL_3f5e0a08475a42738b341b83f9d7947f",
       "value": 1
      }
     },
     "37988991708a4c2b9da55c73ac57e2a7": {
      "model_module": "@jupyter-widgets/controls",
      "model_module_version": "1.5.0",
      "model_name": "DropdownModel",
      "state": {
       "_options_labels": [
        "a",
        "b",
        "c"
       ],
       "description": "z",
       "index": 2,
       "layout": "IPY_MODEL_a6390fc5b4084746be825533a66ebc1d",
       "style": "IPY_MODEL_0f1b67437ec04ab9bd3f5696b9e51c65"
      }
     },
     "3853e5140c6043cabf851710e792d6c0": {
      "model_module": "@jupyter-widgets/base",
      "model_module_version": "1.2.0",
      "model_name": "LayoutModel",
      "state": {}
     },
     "3898c4da06a247bc8da2403abb58cdf3": {
      "model_module": "@jupyter-widgets/controls",
      "model_module_version": "1.5.0",
      "model_name": "DescriptionStyleModel",
      "state": {
       "description_width": ""
      }
     },
     "39bea52f1e804d278a509d3edfd7d24c": {
      "model_module": "@jupyter-widgets/base",
      "model_module_version": "1.2.0",
      "model_name": "LayoutModel",
      "state": {}
     },
     "39cbb4c1a2f54c078d7a9639f178a7cd": {
      "model_module": "jupyter-matplotlib",
      "model_module_version": "^0.7.4",
      "model_name": "ToolbarModel",
      "state": {
       "collapsed": false,
       "layout": "IPY_MODEL_177fc92d149d4168a3ea8cc3c5598a2e",
       "toolitems": [
        [
         "Home",
         "Reset original view",
         "home",
         "home"
        ],
        [
         "Back",
         "Back to previous view",
         "arrow-left",
         "back"
        ],
        [
         "Forward",
         "Forward to next view",
         "arrow-right",
         "forward"
        ],
        [
         "Pan",
         "Left button pans, Right button zooms\nx/y fixes axis, CTRL fixes aspect",
         "arrows",
         "pan"
        ],
        [
         "Zoom",
         "Zoom to rectangle\nx/y fixes axis, CTRL fixes aspect",
         "square-o",
         "zoom"
        ],
        [
         "Download",
         "Download plot",
         "floppy-o",
         "save_figure"
        ]
       ]
      }
     },
     "3c00c39fb29441e7910ec4165d582f1a": {
      "model_module": "@jupyter-widgets/controls",
      "model_module_version": "1.5.0",
      "model_name": "SliderStyleModel",
      "state": {
       "description_width": ""
      }
     },
     "3d213e33b05b4156ad19bde4c6459aae": {
      "model_module": "jupyter-matplotlib",
      "model_module_version": "^0.7.4",
      "model_name": "MPLCanvasModel",
      "state": {
       "_cursor": "default",
       "_figure_label": "Figure 27",
       "_height": 480,
       "_image_mode": "diff",
       "_width": 640,
       "layout": "IPY_MODEL_92f216e525a444bc8800af21f854d817",
       "toolbar": "IPY_MODEL_31740c81762944c8b94a38a5ebcb14cb",
       "toolbar_position": "left"
      }
     },
     "3d5d014cc2324e3b96024f97e34b9399": {
      "model_module": "@jupyter-widgets/controls",
      "model_module_version": "1.5.0",
      "model_name": "SliderStyleModel",
      "state": {
       "description_width": ""
      }
     },
     "3dbffe0982184fdbb44bb81dd4b40443": {
      "model_module": "@jupyter-widgets/base",
      "model_module_version": "1.2.0",
      "model_name": "LayoutModel",
      "state": {}
     },
     "3e8bd049506946b2b21516f5832e3b69": {
      "model_module": "@jupyter-widgets/output",
      "model_module_version": "1.0.0",
      "model_name": "OutputModel",
      "state": {
       "layout": "IPY_MODEL_06d3453930f34a7a8db3c9cc9b5da43a",
       "outputs": [
        {
         "name": "stdout",
         "output_type": "stream",
         "text": "My name is Jim\n"
        }
       ]
      }
     },
     "3f5e0a08475a42738b341b83f9d7947f": {
      "model_module": "@jupyter-widgets/controls",
      "model_module_version": "1.5.0",
      "model_name": "SliderStyleModel",
      "state": {
       "description_width": ""
      }
     },
     "3f711a5db9ff481a9aac920e9b561574": {
      "model_module": "jupyter-matplotlib",
      "model_module_version": "^0.7.4",
      "model_name": "ToolbarModel",
      "state": {
       "layout": "IPY_MODEL_8dbec4d84cff494c9c3efe7561d533e9",
       "toolitems": [
        [
         "Home",
         "Reset original view",
         "home",
         "home"
        ],
        [
         "Back",
         "Back to previous view",
         "arrow-left",
         "back"
        ],
        [
         "Forward",
         "Forward to next view",
         "arrow-right",
         "forward"
        ],
        [
         "Pan",
         "Left button pans, Right button zooms\nx/y fixes axis, CTRL fixes aspect",
         "arrows",
         "pan"
        ],
        [
         "Zoom",
         "Zoom to rectangle\nx/y fixes axis, CTRL fixes aspect",
         "square-o",
         "zoom"
        ],
        [
         "Download",
         "Download plot",
         "floppy-o",
         "save_figure"
        ]
       ]
      }
     },
     "3fa8436a235d4486bf93213d5e7795c0": {
      "model_module": "@jupyter-widgets/base",
      "model_module_version": "1.2.0",
      "model_name": "LayoutModel",
      "state": {}
     },
     "40bb09b008b8417c97f595bc70d805bf": {
      "model_module": "@jupyter-widgets/base",
      "model_module_version": "1.2.0",
      "model_name": "LayoutModel",
      "state": {}
     },
     "413e1adee39a495a8bd5c8366abf32e7": {
      "model_module": "jupyter-matplotlib",
      "model_module_version": "^0.7.4",
      "model_name": "ToolbarModel",
      "state": {
       "layout": "IPY_MODEL_23f5bcea41d044cba9b1b95a3e8cfc33",
       "toolitems": [
        [
         "Home",
         "Reset original view",
         "home",
         "home"
        ],
        [
         "Back",
         "Back to previous view",
         "arrow-left",
         "back"
        ],
        [
         "Forward",
         "Forward to next view",
         "arrow-right",
         "forward"
        ],
        [
         "Pan",
         "Left button pans, Right button zooms\nx/y fixes axis, CTRL fixes aspect",
         "arrows",
         "pan"
        ],
        [
         "Zoom",
         "Zoom to rectangle\nx/y fixes axis, CTRL fixes aspect",
         "square-o",
         "zoom"
        ],
        [
         "Download",
         "Download plot",
         "floppy-o",
         "save_figure"
        ]
       ]
      }
     },
     "417a473c2d4f4eb992034be6a7111084": {
      "model_module": "@jupyter-widgets/base",
      "model_module_version": "1.2.0",
      "model_name": "LayoutModel",
      "state": {}
     },
     "41b7de5874644ca78554da4654dc236f": {
      "model_module": "@jupyter-widgets/base",
      "model_module_version": "1.2.0",
      "model_name": "LayoutModel",
      "state": {}
     },
     "43746a60a0df4bd7abee537ec2cc82a9": {
      "model_module": "@jupyter-widgets/base",
      "model_module_version": "1.2.0",
      "model_name": "LayoutModel",
      "state": {}
     },
     "44e5fc9038cf4f19b9ce40f88f1ea535": {
      "model_module": "@jupyter-widgets/output",
      "model_module_version": "1.0.0",
      "model_name": "OutputModel",
      "state": {
       "layout": "IPY_MODEL_2d46d08101c1405a9d4a208b8f779065",
       "outputs": [
        {
         "name": "stdout",
         "output_type": "stream",
         "text": "Widget says: 10\n"
        }
       ]
      }
     },
     "45b2de9ddad741d9900a8a56b78a8b7f": {
      "model_module": "@jupyter-widgets/controls",
      "model_module_version": "1.5.0",
      "model_name": "FloatSliderModel",
      "state": {
       "description": "amp",
       "layout": "IPY_MODEL_1f898c0745fe4f05b298d098b9ef2304",
       "max": 10,
       "step": 0.1,
       "style": "IPY_MODEL_83596c42e05440b094317c62146538ac",
       "value": 2
      }
     },
     "466a04b9685a47e499468715724d4c2e": {
      "model_module": "@jupyter-widgets/base",
      "model_module_version": "1.2.0",
      "model_name": "LayoutModel",
      "state": {}
     },
     "47476dc3d9484c439a37d5b16954954c": {
      "model_module": "@jupyter-widgets/controls",
      "model_module_version": "1.5.0",
      "model_name": "FloatSliderModel",
      "state": {
       "description": "phi",
       "layout": "IPY_MODEL_1cfe61b29d234fa68dcb80231856eb8f",
       "max": 6.293185307179586,
       "step": 0.01,
       "style": "IPY_MODEL_7c868ec4aa534a80a04d6aa2f741df72"
      }
     },
     "47b7480bbce34b31bf9b8f72d3d3d612": {
      "model_module": "@jupyter-widgets/base",
      "model_module_version": "1.2.0",
      "model_name": "LayoutModel",
      "state": {}
     },
     "47e33bc9c41f46fdb9d6c176d50d327c": {
      "model_module": "@jupyter-widgets/controls",
      "model_module_version": "1.5.0",
      "model_name": "VBoxModel",
      "state": {
       "_dom_classes": [
        "widget-interact"
       ],
       "children": [
        "IPY_MODEL_af2a6942846542edb52362c12b9afe6b",
        "IPY_MODEL_2d1c1e5cd9284444be1eb0f81cb2e3e2",
        "IPY_MODEL_f2cc9e99385243c68b90e18f10d5da50",
        "IPY_MODEL_b2ce94e03f314ad9bdc193ac83d5917e"
       ],
       "layout": "IPY_MODEL_8b52a994053b48db82cf66e3ea1a9da3"
      }
     },
     "47f6c9cb55de42be8c42c42e802d5ce5": {
      "model_module": "@jupyter-widgets/controls",
      "model_module_version": "1.5.0",
      "model_name": "VBoxModel",
      "state": {
       "_dom_classes": [
        "widget-interact"
       ],
       "children": [
        "IPY_MODEL_cd39c494fb2c4fdc8e5abfbdba9ce1ce",
        "IPY_MODEL_76e8091b22b64f05b148db791ad9e8d5",
        "IPY_MODEL_37988991708a4c2b9da55c73ac57e2a7",
        "IPY_MODEL_6a33fb20d5fb4ed580c35b7258664ac1"
       ],
       "layout": "IPY_MODEL_82d5ed7db1104b94b9b0bb17dd5bc10d"
      }
     },
     "4907dccc038f42e5ae8891126f902c07": {
      "model_module": "@jupyter-widgets/base",
      "model_module_version": "1.2.0",
      "model_name": "LayoutModel",
      "state": {}
     },
     "49253d2456ac4c71b267ff3ac107c051": {
      "model_module": "@jupyter-widgets/base",
      "model_module_version": "1.2.0",
      "model_name": "LayoutModel",
      "state": {}
     },
     "492dd05a56f54ff79267b82aba0bb342": {
      "model_module": "@jupyter-widgets/controls",
      "model_module_version": "1.5.0",
      "model_name": "SliderStyleModel",
      "state": {
       "description_width": ""
      }
     },
     "4c2b23567d884cdba28f8a67f3f97ceb": {
      "model_module": "@jupyter-widgets/base",
      "model_module_version": "1.2.0",
      "model_name": "LayoutModel",
      "state": {}
     },
     "4d1d9c3f72864bf9af51f71d3274d328": {
      "model_module": "@jupyter-widgets/base",
      "model_module_version": "1.2.0",
      "model_name": "LayoutModel",
      "state": {}
     },
     "4e1d46bc1b7e47089e1446ba54390bbe": {
      "model_module": "@jupyter-widgets/base",
      "model_module_version": "1.2.0",
      "model_name": "LayoutModel",
      "state": {}
     },
     "4e3f652ca1cd4eb98e14502b3c949eb3": {
      "model_module": "@jupyter-widgets/controls",
      "model_module_version": "1.5.0",
      "model_name": "FloatSliderModel",
      "state": {
       "description": "x",
       "layout": "IPY_MODEL_b76b10bba566441ba1a430b268ca0a6f",
       "max": 10,
       "step": 0.5,
       "style": "IPY_MODEL_65bd99c2ffb240ed9a062109133d127a",
       "value": 8
      }
     },
     "52523c8682e944c68aaf7f5fec06f7d1": {
      "model_module": "@jupyter-widgets/controls",
      "model_module_version": "1.5.0",
      "model_name": "SliderStyleModel",
      "state": {
       "description_width": ""
      }
     },
     "5279d8f3f2b848338773aaa253174984": {
      "model_module": "@jupyter-widgets/base",
      "model_module_version": "1.2.0",
      "model_name": "LayoutModel",
      "state": {}
     },
     "5422519d70f9410db4be64ee311b3bae": {
      "model_module": "@jupyter-widgets/controls",
      "model_module_version": "1.5.0",
      "model_name": "IntSliderModel",
      "state": {
       "continuous_update": false,
       "description": "$\\omega$",
       "layout": "IPY_MODEL_bbd5296a31d141faa4fb096d3310a3f2",
       "max": 10,
       "style": "IPY_MODEL_b46e66589ad344f686399fb9b7403547",
       "value": 6
      }
     },
     "549e6b8141504bc383427a487c6fc186": {
      "model_module": "jupyter-matplotlib",
      "model_module_version": "^0.7.4",
      "model_name": "ToolbarModel",
      "state": {
       "layout": "IPY_MODEL_6d8819d089344b828183a40eb6343502",
       "toolitems": [
        [
         "Home",
         "Reset original view",
         "home",
         "home"
        ],
        [
         "Back",
         "Back to previous view",
         "arrow-left",
         "back"
        ],
        [
         "Forward",
         "Forward to next view",
         "arrow-right",
         "forward"
        ],
        [
         "Pan",
         "Left button pans, Right button zooms\nx/y fixes axis, CTRL fixes aspect",
         "arrows",
         "pan"
        ],
        [
         "Zoom",
         "Zoom to rectangle\nx/y fixes axis, CTRL fixes aspect",
         "square-o",
         "zoom"
        ],
        [
         "Download",
         "Download plot",
         "floppy-o",
         "save_figure"
        ]
       ]
      }
     },
     "54d83eaa2154442d99a4b392855c7ccb": {
      "model_module": "@jupyter-widgets/base",
      "model_module_version": "1.2.0",
      "model_name": "LayoutModel",
      "state": {}
     },
     "54def632678948d0a0333840564b97b0": {
      "model_module": "@jupyter-widgets/controls",
      "model_module_version": "1.5.0",
      "model_name": "SliderStyleModel",
      "state": {
       "description_width": ""
      }
     },
     "58834e8eb1844cada93bd68b49716e34": {
      "model_module": "@jupyter-widgets/base",
      "model_module_version": "1.2.0",
      "model_name": "LayoutModel",
      "state": {}
     },
     "58dc709fb3734100880d53b656834723": {
      "model_module": "@jupyter-widgets/base",
      "model_module_version": "1.2.0",
      "model_name": "LayoutModel",
      "state": {}
     },
     "58ddb5c994334f229a5a8cb6bd3d0b18": {
      "model_module": "jupyter-matplotlib",
      "model_module_version": "^0.7.4",
      "model_name": "MPLCanvasModel",
      "state": {
       "_cursor": "default",
       "_figure_label": "Figure 29",
       "_height": 480,
       "_image_mode": "diff",
       "_width": 640,
       "layout": "IPY_MODEL_aa4de30a27bf406290844c8bfc109310",
       "toolbar": "IPY_MODEL_31e0c8956d62472e8b14d222f379daee",
       "toolbar_position": "left"
      }
     },
     "59640152e7ee4f899dfa4efd35905427": {
      "model_module": "@jupyter-widgets/base",
      "model_module_version": "1.2.0",
      "model_name": "LayoutModel",
      "state": {}
     },
     "59fe17e0fab84a7c94fbd57cfe8e85c2": {
      "model_module": "@jupyter-widgets/controls",
      "model_module_version": "1.5.0",
      "model_name": "DescriptionStyleModel",
      "state": {
       "description_width": ""
      }
     },
     "5b4160159a754e4b8c56024a94515a3b": {
      "model_module": "@jupyter-widgets/controls",
      "model_module_version": "1.5.0",
      "model_name": "SliderStyleModel",
      "state": {
       "description_width": ""
      }
     },
     "62aa9452ee6f4146827d623db725958d": {
      "model_module": "@jupyter-widgets/base",
      "model_module_version": "1.2.0",
      "model_name": "LayoutModel",
      "state": {}
     },
     "648319a9e38146c086ed5d7095286390": {
      "model_module": "@jupyter-widgets/base",
      "model_module_version": "1.2.0",
      "model_name": "LayoutModel",
      "state": {}
     },
     "652a35e78576401aa81fe7252facb14d": {
      "model_module": "@jupyter-widgets/base",
      "model_module_version": "1.2.0",
      "model_name": "LayoutModel",
      "state": {}
     },
     "654af4e867704ee492410c5f3a68f4cb": {
      "model_module": "@jupyter-widgets/base",
      "model_module_version": "1.2.0",
      "model_name": "LayoutModel",
      "state": {}
     },
     "65bd99c2ffb240ed9a062109133d127a": {
      "model_module": "@jupyter-widgets/controls",
      "model_module_version": "1.5.0",
      "model_name": "SliderStyleModel",
      "state": {
       "description_width": ""
      }
     },
     "6754f1d44f604170b5fdb8fde4987ede": {
      "model_module": "@jupyter-widgets/controls",
      "model_module_version": "1.5.0",
      "model_name": "IntSliderModel",
      "state": {
       "continuous_update": false,
       "description": "$\\omega$",
       "layout": "IPY_MODEL_a560083540b4460fbe15193099e32527",
       "max": 10,
       "style": "IPY_MODEL_54def632678948d0a0333840564b97b0",
       "value": 6
      }
     },
     "67f0a3a707694d10bbd8b6b11f51544b": {
      "model_module": "@jupyter-widgets/controls",
      "model_module_version": "1.5.0",
      "model_name": "SliderStyleModel",
      "state": {
       "description_width": ""
      }
     },
     "685d3fb6ca6d4591ae112b474a111242": {
      "model_module": "@jupyter-widgets/base",
      "model_module_version": "1.2.0",
      "model_name": "LayoutModel",
      "state": {}
     },
     "6a33fb20d5fb4ed580c35b7258664ac1": {
      "model_module": "@jupyter-widgets/output",
      "model_module_version": "1.0.0",
      "model_name": "OutputModel",
      "state": {
       "layout": "IPY_MODEL_84df168665fe4839b116a1482c43a9e0",
       "outputs": [
        {
         "data": {
          "text/plain": "(10, True, 'c')"
         },
         "metadata": {},
         "output_type": "display_data"
        }
       ]
      }
     },
     "6a4d722c0b1242b2800c259ff8209bc1": {
      "model_module": "@jupyter-widgets/base",
      "model_module_version": "1.2.0",
      "model_name": "LayoutModel",
      "state": {}
     },
     "6a52597206894f5185858d747900d7ce": {
      "model_module": "@jupyter-widgets/controls",
      "model_module_version": "1.5.0",
      "model_name": "FloatSliderModel",
      "state": {
       "description": "amp",
       "layout": "IPY_MODEL_c012bc75a69d413dbbc48418f3c06cfe",
       "max": 4,
       "step": 0.1,
       "style": "IPY_MODEL_3d5d014cc2324e3b96024f97e34b9399",
       "value": 4
      }
     },
     "6b272f54e526430b8df6c9fc3e0eeb61": {
      "model_module": "jupyter-matplotlib",
      "model_module_version": "^0.7.4",
      "model_name": "MPLCanvasModel",
      "state": {
       "_cursor": "default",
       "_figure_label": "Figure 30",
       "_height": 480,
       "_width": 640,
       "layout": "IPY_MODEL_466a04b9685a47e499468715724d4c2e",
       "toolbar": "IPY_MODEL_a992b0dab4b9414bbd1a351d32958742",
       "toolbar_position": "left"
      }
     },
     "6d8819d089344b828183a40eb6343502": {
      "model_module": "@jupyter-widgets/base",
      "model_module_version": "1.2.0",
      "model_name": "LayoutModel",
      "state": {}
     },
     "6f51f1bc86794d21a242faab57fc9cc3": {
      "model_module": "@jupyter-widgets/base",
      "model_module_version": "1.2.0",
      "model_name": "LayoutModel",
      "state": {}
     },
     "713c8f6dd2624e67b943e9916ccd11ca": {
      "model_module": "@jupyter-widgets/base",
      "model_module_version": "1.2.0",
      "model_name": "LayoutModel",
      "state": {}
     },
     "714d458297be435db3496cb4cca146c2": {
      "model_module": "@jupyter-widgets/controls",
      "model_module_version": "1.5.0",
      "model_name": "VBoxModel",
      "state": {
       "_dom_classes": [
        "widget-interact"
       ],
       "children": [
        "IPY_MODEL_f6de8552afe94edcae89dbffd4293935",
        "IPY_MODEL_ee117281621746bba8cb05c39786b9a7",
        "IPY_MODEL_d3b1ae3944e7474d8b5621bb89944920",
        "IPY_MODEL_8ad6e146d1ee486190417ea40e950f1d"
       ],
       "layout": "IPY_MODEL_cfe3901d755f429b9fbe220a5593a7c0"
      }
     },
     "71817dafdd23420cbe0a1954d217845e": {
      "model_module": "@jupyter-widgets/controls",
      "model_module_version": "1.5.0",
      "model_name": "IntSliderModel",
      "state": {
       "description": "x",
       "layout": "IPY_MODEL_89f67f3b79104f3dabeb452d0aad0c94",
       "max": 10,
       "style": "IPY_MODEL_d2ac470446744e3aaac5a29c172fa835",
       "value": 4
      }
     },
     "725eef25caf54b718237eb7c05d78fd2": {
      "model_module": "@jupyter-widgets/output",
      "model_module_version": "1.0.0",
      "model_name": "OutputModel",
      "state": {
       "layout": "IPY_MODEL_91c13c7f74d749ca87d004c28ea2af30"
      }
     },
     "737d5c17527d499d973ee148cb1e0c73": {
      "model_module": "jupyter-matplotlib",
      "model_module_version": "^0.7.4",
      "model_name": "ToolbarModel",
      "state": {
       "layout": "IPY_MODEL_58834e8eb1844cada93bd68b49716e34",
       "toolitems": [
        [
         "Home",
         "Reset original view",
         "home",
         "home"
        ],
        [
         "Back",
         "Back to previous view",
         "arrow-left",
         "back"
        ],
        [
         "Forward",
         "Forward to next view",
         "arrow-right",
         "forward"
        ],
        [
         "Pan",
         "Left button pans, Right button zooms\nx/y fixes axis, CTRL fixes aspect",
         "arrows",
         "pan"
        ],
        [
         "Zoom",
         "Zoom to rectangle\nx/y fixes axis, CTRL fixes aspect",
         "square-o",
         "zoom"
        ],
        [
         "Download",
         "Download plot",
         "floppy-o",
         "save_figure"
        ]
       ]
      }
     },
     "758fbcffc97241c89e28e5c5f770928f": {
      "model_module": "@jupyter-widgets/base",
      "model_module_version": "1.2.0",
      "model_name": "LayoutModel",
      "state": {}
     },
     "7637dec80ffb4d65922969038c9c3be9": {
      "model_module": "@jupyter-widgets/base",
      "model_module_version": "1.2.0",
      "model_name": "LayoutModel",
      "state": {}
     },
     "76e8091b22b64f05b148db791ad9e8d5": {
      "model_module": "@jupyter-widgets/controls",
      "model_module_version": "1.5.0",
      "model_name": "CheckboxModel",
      "state": {
       "description": "y",
       "disabled": false,
       "layout": "IPY_MODEL_2ce980ff5f6d4aa399196e4d61df87e7",
       "style": "IPY_MODEL_f000debf295849b8ac02b8a94aea03bc",
       "value": true
      }
     },
     "7735bf6a1b9d443db48cec60dcde2527": {
      "model_module": "@jupyter-widgets/base",
      "model_module_version": "1.2.0",
      "model_name": "LayoutModel",
      "state": {}
     },
     "7801f95c530a42578b966ba58779d322": {
      "model_module": "@jupyter-widgets/base",
      "model_module_version": "1.2.0",
      "model_name": "LayoutModel",
      "state": {}
     },
     "7b2ca412ce4749c28380da04c5ce8012": {
      "model_module": "jupyter-matplotlib",
      "model_module_version": "^0.7.4",
      "model_name": "MPLCanvasModel",
      "state": {
       "_cursor": "default",
       "_figure_label": "Figure 1",
       "_height": 400,
       "_image_mode": "diff",
       "_message": "x=5.49 y=3.82",
       "_width": 600,
       "layout": "IPY_MODEL_0b62b252cdc14e5786ab63b6a2ffdf6e",
       "toolbar": "IPY_MODEL_549e6b8141504bc383427a487c6fc186",
       "toolbar_position": "left"
      }
     },
     "7b57f5d552574e7ebacc7016fbda2697": {
      "model_module": "@jupyter-widgets/controls",
      "model_module_version": "1.5.0",
      "model_name": "VBoxModel",
      "state": {
       "_dom_classes": [
        "widget-interact"
       ],
       "children": [
        "IPY_MODEL_add06e37331345fbaeb2e87c4843a898",
        "IPY_MODEL_345efb939427471abd7fe0349e5ce3b3"
       ],
       "layout": "IPY_MODEL_758fbcffc97241c89e28e5c5f770928f"
      }
     },
     "7bbaa45bec3640b79983c1102a29bf81": {
      "model_module": "@jupyter-widgets/controls",
      "model_module_version": "1.5.0",
      "model_name": "IntSliderModel",
      "state": {
       "description": "slider 1",
       "layout": "IPY_MODEL_43746a60a0df4bd7abee537ec2cc82a9",
       "max": 10,
       "style": "IPY_MODEL_492dd05a56f54ff79267b82aba0bb342",
       "value": 4
      }
     },
     "7c29ce0bc156423b9c9d9ee8ce4e113b": {
      "model_module": "@jupyter-widgets/base",
      "model_module_version": "1.2.0",
      "model_name": "LayoutModel",
      "state": {}
     },
     "7c868ec4aa534a80a04d6aa2f741df72": {
      "model_module": "@jupyter-widgets/controls",
      "model_module_version": "1.5.0",
      "model_name": "SliderStyleModel",
      "state": {
       "description_width": ""
      }
     },
     "7dbcb3c0526549828a879d885ddac1de": {
      "model_module": "@jupyter-widgets/base",
      "model_module_version": "1.2.0",
      "model_name": "LayoutModel",
      "state": {}
     },
     "7f5f5cc8110f4a9f9e2247999aeab9f5": {
      "model_module": "@jupyter-widgets/base",
      "model_module_version": "1.2.0",
      "model_name": "LayoutModel",
      "state": {}
     },
     "7ff144b4159d47948fee2930041fd192": {
      "model_module": "@jupyter-widgets/controls",
      "model_module_version": "1.5.0",
      "model_name": "IntSliderModel",
      "state": {
       "description": "$\\omega$",
       "layout": "IPY_MODEL_ca7dbbdf8b1a450694cc52f6d38fe5cc",
       "max": 10,
       "style": "IPY_MODEL_e2d252b8738d411fb85e8ef805ffd74b",
       "value": 1
      }
     },
     "82d5ed7db1104b94b9b0bb17dd5bc10d": {
      "model_module": "@jupyter-widgets/base",
      "model_module_version": "1.2.0",
      "model_name": "LayoutModel",
      "state": {}
     },
     "83596c42e05440b094317c62146538ac": {
      "model_module": "@jupyter-widgets/controls",
      "model_module_version": "1.5.0",
      "model_name": "SliderStyleModel",
      "state": {
       "description_width": ""
      }
     },
     "8373e82481ac4f2b9626dd26e5a38031": {
      "model_module": "@jupyter-widgets/base",
      "model_module_version": "1.2.0",
      "model_name": "LayoutModel",
      "state": {}
     },
     "83e1c798756a4cb9a3a22cf49f836f67": {
      "model_module": "@jupyter-widgets/controls",
      "model_module_version": "1.5.0",
      "model_name": "IntSliderModel",
      "state": {
       "description": "x",
       "layout": "IPY_MODEL_ed92e008f03346519bec1e80640c85c8",
       "max": 10,
       "style": "IPY_MODEL_cf8d9fad19694cca8812df30320195b7",
       "value": 5
      }
     },
     "8412b04667f74cc39bd1c1fe8705e9ba": {
      "model_module": "jupyter-matplotlib",
      "model_module_version": "^0.7.4",
      "model_name": "ToolbarModel",
      "state": {
       "layout": "IPY_MODEL_ec8ccc53944e4d9299e80ab3dcd9bfb6",
       "toolitems": [
        [
         "Home",
         "Reset original view",
         "home",
         "home"
        ],
        [
         "Back",
         "Back to previous view",
         "arrow-left",
         "back"
        ],
        [
         "Forward",
         "Forward to next view",
         "arrow-right",
         "forward"
        ],
        [
         "Pan",
         "Left button pans, Right button zooms\nx/y fixes axis, CTRL fixes aspect",
         "arrows",
         "pan"
        ],
        [
         "Zoom",
         "Zoom to rectangle\nx/y fixes axis, CTRL fixes aspect",
         "square-o",
         "zoom"
        ],
        [
         "Download",
         "Download plot",
         "floppy-o",
         "save_figure"
        ]
       ]
      }
     },
     "841cc39026544f508e20be5d3e68ad15": {
      "model_module": "jupyter-matplotlib",
      "model_module_version": "^0.7.4",
      "model_name": "ToolbarModel",
      "state": {
       "layout": "IPY_MODEL_199535800d2d4fb89aa6aec9c7b416b3",
       "toolitems": [
        [
         "Home",
         "Reset original view",
         "home",
         "home"
        ],
        [
         "Back",
         "Back to previous view",
         "arrow-left",
         "back"
        ],
        [
         "Forward",
         "Forward to next view",
         "arrow-right",
         "forward"
        ],
        [
         "Pan",
         "Left button pans, Right button zooms\nx/y fixes axis, CTRL fixes aspect",
         "arrows",
         "pan"
        ],
        [
         "Zoom",
         "Zoom to rectangle\nx/y fixes axis, CTRL fixes aspect",
         "square-o",
         "zoom"
        ],
        [
         "Download",
         "Download plot",
         "floppy-o",
         "save_figure"
        ]
       ]
      }
     },
     "84228d45a0c54b8ca6213426b83fa3fe": {
      "model_module": "@jupyter-widgets/output",
      "model_module_version": "1.0.0",
      "model_name": "OutputModel",
      "state": {
       "layout": "IPY_MODEL_8373e82481ac4f2b9626dd26e5a38031"
      }
     },
     "849bf64019314d49a58dc893f09e2aa2": {
      "model_module": "@jupyter-widgets/output",
      "model_module_version": "1.0.0",
      "model_name": "OutputModel",
      "state": {
       "layout": "IPY_MODEL_6f51f1bc86794d21a242faab57fc9cc3",
       "outputs": [
        {
         "data": {
          "text/plain": "(4, True, 'I am fixed')"
         },
         "metadata": {},
         "output_type": "display_data"
        }
       ]
      }
     },
     "84df168665fe4839b116a1482c43a9e0": {
      "model_module": "@jupyter-widgets/base",
      "model_module_version": "1.2.0",
      "model_name": "LayoutModel",
      "state": {}
     },
     "852db515b6b649afadeeb6776a1a5ea7": {
      "model_module": "@jupyter-widgets/base",
      "model_module_version": "1.2.0",
      "model_name": "LayoutModel",
      "state": {}
     },
     "86d3f596d5104db2a474ac86740fed54": {
      "model_module": "jupyter-matplotlib",
      "model_module_version": "^0.7.4",
      "model_name": "MPLCanvasModel",
      "state": {
       "_cursor": "default",
       "_figure_label": "Figure 15",
       "_height": 480,
       "_image_mode": "diff",
       "_width": 640,
       "layout": "IPY_MODEL_35e38ab1c3504131aa5839b5bbb869a8",
       "toolbar": "IPY_MODEL_413e1adee39a495a8bd5c8366abf32e7",
       "toolbar_position": "left"
      }
     },
     "86dff1af5af24a9294beb6fd6f0c19e5": {
      "model_module": "@jupyter-widgets/controls",
      "model_module_version": "1.5.0",
      "model_name": "VBoxModel",
      "state": {
       "_dom_classes": [
        "widget-interact"
       ],
       "children": [
        "IPY_MODEL_b289d29b69cc43348e1485ad1c52b04a",
        "IPY_MODEL_174d8400b131469abbba9f3615d8f6d7",
        "IPY_MODEL_1adc99ac59434de99c7112fba712def1",
        "IPY_MODEL_00f3b96ccda34d6ba64626d2a99ac0bb"
       ],
       "layout": "IPY_MODEL_8b842aa458504535969231ba4a194e7b"
      }
     },
     "87b9d3a49b614062b4f201a592006b16": {
      "model_module": "jupyter-matplotlib",
      "model_module_version": "^0.7.4",
      "model_name": "ToolbarModel",
      "state": {
       "layout": "IPY_MODEL_e7677081c59e4aa4a81e57784fb13687",
       "toolitems": [
        [
         "Home",
         "Reset original view",
         "home",
         "home"
        ],
        [
         "Back",
         "Back to previous view",
         "arrow-left",
         "back"
        ],
        [
         "Forward",
         "Forward to next view",
         "arrow-right",
         "forward"
        ],
        [
         "Pan",
         "Left button pans, Right button zooms\nx/y fixes axis, CTRL fixes aspect",
         "arrows",
         "pan"
        ],
        [
         "Zoom",
         "Zoom to rectangle\nx/y fixes axis, CTRL fixes aspect",
         "square-o",
         "zoom"
        ],
        [
         "Download",
         "Download plot",
         "floppy-o",
         "save_figure"
        ]
       ]
      }
     },
     "87f3912d77524ff0834b6777660d355d": {
      "model_module": "@jupyter-widgets/controls",
      "model_module_version": "1.5.0",
      "model_name": "FloatSliderModel",
      "state": {
       "description": "phi",
       "layout": "IPY_MODEL_fa2dc7f5b75b4e16a90349fbf26c7d3d",
       "max": 6.293185307179586,
       "step": 0.01,
       "style": "IPY_MODEL_d1c4a3ddffff49e9ab24c3758b20f0e0"
      }
     },
     "87f58523bd8640cebaa03ff480325a20": {
      "model_module": "@jupyter-widgets/controls",
      "model_module_version": "1.5.0",
      "model_name": "FloatSliderModel",
      "state": {
       "description": "amp",
       "layout": "IPY_MODEL_1f6ec33d8b974040b3b1920859aca859",
       "max": 10,
       "step": 0.1,
       "style": "IPY_MODEL_947433e4ea594985894a709481b9adbb",
       "value": 4.3
      }
     },
     "887a0e301f4348b8a23eab95180c2644": {
      "model_module": "@jupyter-widgets/controls",
      "model_module_version": "1.5.0",
      "model_name": "SliderStyleModel",
      "state": {
       "description_width": ""
      }
     },
     "89f67f3b79104f3dabeb452d0aad0c94": {
      "model_module": "@jupyter-widgets/base",
      "model_module_version": "1.2.0",
      "model_name": "LayoutModel",
      "state": {}
     },
     "8a26d7e4c86b438a907affba696cb3c9": {
      "model_module": "@jupyter-widgets/base",
      "model_module_version": "1.2.0",
      "model_name": "LayoutModel",
      "state": {}
     },
     "8a29eb265980458782d35511da5839e2": {
      "model_module": "@jupyter-widgets/base",
      "model_module_version": "1.2.0",
      "model_name": "LayoutModel",
      "state": {}
     },
     "8a3ea7d4ca454aba87daddf13dd00446": {
      "model_module": "@jupyter-widgets/controls",
      "model_module_version": "1.5.0",
      "model_name": "VBoxModel",
      "state": {
       "_dom_classes": [
        "widget-interact"
       ],
       "children": [
        "IPY_MODEL_d23d964de2504d9abfddbad043ed4d39",
        "IPY_MODEL_45b2de9ddad741d9900a8a56b78a8b7f",
        "IPY_MODEL_1740ee8a9f714b4cb5c8089416e32845",
        "IPY_MODEL_ab283b104ab040a286b9ebb95077df0f"
       ],
       "layout": "IPY_MODEL_39bea52f1e804d278a509d3edfd7d24c"
      }
     },
     "8ad6e146d1ee486190417ea40e950f1d": {
      "model_module": "@jupyter-widgets/output",
      "model_module_version": "1.0.0",
      "model_name": "OutputModel",
      "state": {
       "layout": "IPY_MODEL_ba946a9918e44bb68cee0f28d09a1ad3"
      }
     },
     "8ad7728a26d74a6e9a4c9359d7d239fd": {
      "model_module": "@jupyter-widgets/controls",
      "model_module_version": "1.5.0",
      "model_name": "SliderStyleModel",
      "state": {
       "description_width": ""
      }
     },
     "8b3894f8b5b345d393329467173f3e1e": {
      "model_module": "jupyter-matplotlib",
      "model_module_version": "^0.7.4",
      "model_name": "ToolbarModel",
      "state": {
       "layout": "IPY_MODEL_d763e047d5974e92ac9a625297f443f6",
       "toolitems": [
        [
         "Home",
         "Reset original view",
         "home",
         "home"
        ],
        [
         "Back",
         "Back to previous view",
         "arrow-left",
         "back"
        ],
        [
         "Forward",
         "Forward to next view",
         "arrow-right",
         "forward"
        ],
        [
         "Pan",
         "Left button pans, Right button zooms\nx/y fixes axis, CTRL fixes aspect",
         "arrows",
         "pan"
        ],
        [
         "Zoom",
         "Zoom to rectangle\nx/y fixes axis, CTRL fixes aspect",
         "square-o",
         "zoom"
        ],
        [
         "Download",
         "Download plot",
         "floppy-o",
         "save_figure"
        ]
       ]
      }
     },
     "8b52a994053b48db82cf66e3ea1a9da3": {
      "model_module": "@jupyter-widgets/base",
      "model_module_version": "1.2.0",
      "model_name": "LayoutModel",
      "state": {}
     },
     "8b551df5d903490b980d83ba04a82d4c": {
      "model_module": "@jupyter-widgets/base",
      "model_module_version": "1.2.0",
      "model_name": "LayoutModel",
      "state": {}
     },
     "8b5846fb99464396bc3462650cdce5f9": {
      "model_module": "@jupyter-widgets/base",
      "model_module_version": "1.2.0",
      "model_name": "LayoutModel",
      "state": {}
     },
     "8b842aa458504535969231ba4a194e7b": {
      "model_module": "@jupyter-widgets/base",
      "model_module_version": "1.2.0",
      "model_name": "LayoutModel",
      "state": {}
     },
     "8c95c328d5eb413088f8a06843e63af7": {
      "model_module": "jupyter-matplotlib",
      "model_module_version": "^0.7.4",
      "model_name": "MPLCanvasModel",
      "state": {
       "_cursor": "default",
       "_figure_label": "Figure 16",
       "_height": 480,
       "_image_mode": "diff",
       "_message": "x=0.71 y=0.566",
       "_width": 640,
       "layout": "IPY_MODEL_7dbcb3c0526549828a879d885ddac1de",
       "toolbar": "IPY_MODEL_c6a800f2c10f4e26a34d3fe524a768a9",
       "toolbar_position": "left"
      }
     },
     "8d8dfa01b4ec4900a82384e89cba3e94": {
      "model_module": "@jupyter-widgets/base",
      "model_module_version": "1.2.0",
      "model_name": "LayoutModel",
      "state": {}
     },
     "8dbec4d84cff494c9c3efe7561d533e9": {
      "model_module": "@jupyter-widgets/base",
      "model_module_version": "1.2.0",
      "model_name": "LayoutModel",
      "state": {}
     },
     "8e93b581d3ac4d59ad7ea6d133d700ad": {
      "model_module": "@jupyter-widgets/controls",
      "model_module_version": "1.5.0",
      "model_name": "VBoxModel",
      "state": {
       "_dom_classes": [
        "widget-interact"
       ],
       "children": [
        "IPY_MODEL_2178bd11bd3d4544b35a43c485dcca76",
        "IPY_MODEL_f97c7ee1f90246d2bdffd606d09e5cc3"
       ],
       "layout": "IPY_MODEL_b4ea83946a2d417a8760d1c98522d886"
      }
     },
     "8f3f2f4f19da4d7289dc2d5758fa438a": {
      "model_module": "@jupyter-widgets/base",
      "model_module_version": "1.2.0",
      "model_name": "LayoutModel",
      "state": {}
     },
     "913a8de4933e4a088eccac41d063f15a": {
      "model_module": "jupyter-matplotlib",
      "model_module_version": "^0.7.4",
      "model_name": "ToolbarModel",
      "state": {
       "layout": "IPY_MODEL_3853e5140c6043cabf851710e792d6c0",
       "toolitems": [
        [
         "Home",
         "Reset original view",
         "home",
         "home"
        ],
        [
         "Back",
         "Back to previous view",
         "arrow-left",
         "back"
        ],
        [
         "Forward",
         "Forward to next view",
         "arrow-right",
         "forward"
        ],
        [
         "Pan",
         "Left button pans, Right button zooms\nx/y fixes axis, CTRL fixes aspect",
         "arrows",
         "pan"
        ],
        [
         "Zoom",
         "Zoom to rectangle\nx/y fixes axis, CTRL fixes aspect",
         "square-o",
         "zoom"
        ],
        [
         "Download",
         "Download plot",
         "floppy-o",
         "save_figure"
        ]
       ]
      }
     },
     "91c13c7f74d749ca87d004c28ea2af30": {
      "model_module": "@jupyter-widgets/base",
      "model_module_version": "1.2.0",
      "model_name": "LayoutModel",
      "state": {}
     },
     "920fe7744e2f4171a0f7b45b861b9ea4": {
      "model_module": "@jupyter-widgets/base",
      "model_module_version": "1.2.0",
      "model_name": "LayoutModel",
      "state": {}
     },
     "92f216e525a444bc8800af21f854d817": {
      "model_module": "@jupyter-widgets/base",
      "model_module_version": "1.2.0",
      "model_name": "LayoutModel",
      "state": {}
     },
     "947433e4ea594985894a709481b9adbb": {
      "model_module": "@jupyter-widgets/controls",
      "model_module_version": "1.5.0",
      "model_name": "SliderStyleModel",
      "state": {
       "description_width": ""
      }
     },
     "95af52c3385843d5b6b756d753eda8d1": {
      "model_module": "@jupyter-widgets/controls",
      "model_module_version": "1.5.0",
      "model_name": "VBoxModel",
      "state": {
       "_dom_classes": [
        "widget-interact"
       ],
       "children": [
        "IPY_MODEL_9918c396c3f5440cb361b46521ea39e6",
        "IPY_MODEL_9ed7b587befb459282214f0c09ae9d2a"
       ],
       "layout": "IPY_MODEL_3407881ef4da4cdd83e4ceb94e941a9d"
      }
     },
     "960738fba8294f56b58cc30c51e93734": {
      "model_module": "@jupyter-widgets/base",
      "model_module_version": "1.2.0",
      "model_name": "LayoutModel",
      "state": {}
     },
     "96096c8154964a129210fa6cee08c169": {
      "model_module": "@jupyter-widgets/base",
      "model_module_version": "1.2.0",
      "model_name": "LayoutModel",
      "state": {}
     },
     "977c195f20f747edbf29aa6f1219758d": {
      "model_module": "@jupyter-widgets/controls",
      "model_module_version": "1.5.0",
      "model_name": "IntSliderModel",
      "state": {
       "description": "x",
       "layout": "IPY_MODEL_ade1b6704c1e4cdc885e551ffaa04c27",
       "max": 10,
       "style": "IPY_MODEL_1a4e6d6c2ea74d3b9b228118ec44aafc",
       "value": 10
      }
     },
     "98891a4596fe4613ab05829006452df4": {
      "model_module": "@jupyter-widgets/base",
      "model_module_version": "1.2.0",
      "model_name": "LayoutModel",
      "state": {}
     },
     "9918c396c3f5440cb361b46521ea39e6": {
      "model_module": "@jupyter-widgets/controls",
      "model_module_version": "1.5.0",
      "model_name": "DropdownModel",
      "state": {
       "_options_labels": [
        "Jim",
        "Emma",
        "Bond"
       ],
       "description": "name",
       "index": 2,
       "layout": "IPY_MODEL_e5a55a3be828416685e910b7ea64db08",
       "style": "IPY_MODEL_9ea0b136f6d3441aaa9799c23915cb2c"
      }
     },
     "9c04a22c527746d288b1bf5bd9dbc9c6": {
      "model_module": "@jupyter-widgets/output",
      "model_module_version": "1.0.0",
      "model_name": "OutputModel",
      "state": {
       "layout": "IPY_MODEL_920fe7744e2f4171a0f7b45b861b9ea4"
      }
     },
     "9d4dbae3001148b585292d4eb40500b9": {
      "model_module": "@jupyter-widgets/controls",
      "model_module_version": "1.5.0",
      "model_name": "IntSliderModel",
      "state": {
       "description": "w",
       "layout": "IPY_MODEL_2b17cd23bf31495489354a6b074ffe31",
       "max": 10,
       "style": "IPY_MODEL_d1c4fc295f9f4208a56ffa32d4f4ca83",
       "value": 3
      }
     },
     "9dc3991e197449f2904c7a15e6402b43": {
      "model_module": "jupyter-matplotlib",
      "model_module_version": "^0.7.4",
      "model_name": "ToolbarModel",
      "state": {
       "layout": "IPY_MODEL_4907dccc038f42e5ae8891126f902c07",
       "toolitems": [
        [
         "Home",
         "Reset original view",
         "home",
         "home"
        ],
        [
         "Back",
         "Back to previous view",
         "arrow-left",
         "back"
        ],
        [
         "Forward",
         "Forward to next view",
         "arrow-right",
         "forward"
        ],
        [
         "Pan",
         "Left button pans, Right button zooms\nx/y fixes axis, CTRL fixes aspect",
         "arrows",
         "pan"
        ],
        [
         "Zoom",
         "Zoom to rectangle\nx/y fixes axis, CTRL fixes aspect",
         "square-o",
         "zoom"
        ],
        [
         "Download",
         "Download plot",
         "floppy-o",
         "save_figure"
        ]
       ]
      }
     },
     "9e2cd65dcd34409ca6033dfba0a77a01": {
      "model_module": "jupyter-matplotlib",
      "model_module_version": "^0.7.4",
      "model_name": "MPLCanvasModel",
      "state": {
       "_cursor": "default",
       "_figure_label": "Figure 14",
       "_height": 480,
       "_image_mode": "diff",
       "_width": 640,
       "layout": "IPY_MODEL_e8777edfb3494667990692f6c3f0ad50",
       "toolbar": "IPY_MODEL_e15c088be22b4a0ba3fa4c97fea59a59",
       "toolbar_position": "left"
      }
     },
     "9e8ebda27a5142ddab206958d6084b97": {
      "model_module": "jupyter-matplotlib",
      "model_module_version": "^0.7.4",
      "model_name": "ToolbarModel",
      "state": {
       "layout": "IPY_MODEL_cfc7ee59c2064a6abee03127005f52b3",
       "toolitems": [
        [
         "Home",
         "Reset original view",
         "home",
         "home"
        ],
        [
         "Back",
         "Back to previous view",
         "arrow-left",
         "back"
        ],
        [
         "Forward",
         "Forward to next view",
         "arrow-right",
         "forward"
        ],
        [
         "Pan",
         "Left button pans, Right button zooms\nx/y fixes axis, CTRL fixes aspect",
         "arrows",
         "pan"
        ],
        [
         "Zoom",
         "Zoom to rectangle\nx/y fixes axis, CTRL fixes aspect",
         "square-o",
         "zoom"
        ],
        [
         "Download",
         "Download plot",
         "floppy-o",
         "save_figure"
        ]
       ]
      }
     },
     "9ea0b136f6d3441aaa9799c23915cb2c": {
      "model_module": "@jupyter-widgets/controls",
      "model_module_version": "1.5.0",
      "model_name": "DescriptionStyleModel",
      "state": {
       "description_width": ""
      }
     },
     "9ed7b587befb459282214f0c09ae9d2a": {
      "model_module": "@jupyter-widgets/output",
      "model_module_version": "1.0.0",
      "model_name": "OutputModel",
      "state": {
       "layout": "IPY_MODEL_bd4fddb99d3b439b9cb11b84999cc581",
       "outputs": [
        {
         "name": "stdout",
         "output_type": "stream",
         "text": "My name is Bond\n"
        }
       ]
      }
     },
     "9f3c7d7e9f674b4d884677daeab54347": {
      "model_module": "jupyter-matplotlib",
      "model_module_version": "^0.7.4",
      "model_name": "MPLCanvasModel",
      "state": {
       "_cursor": "default",
       "_figure_label": "Figure 26",
       "_height": 480,
       "_image_mode": "diff",
       "_width": 640,
       "layout": "IPY_MODEL_7801f95c530a42578b966ba58779d322",
       "toolbar": "IPY_MODEL_b3d0962f27bf417996c12892c96f7b4b",
       "toolbar_position": "left"
      }
     },
     "9f63e369091043d4aeaaa50789a7db0e": {
      "model_module": "@jupyter-widgets/controls",
      "model_module_version": "1.5.0",
      "model_name": "FloatSliderModel",
      "state": {
       "description": "phi",
       "layout": "IPY_MODEL_bcb25920ac1c4a1cbe9acf4d39e8d50b",
       "max": 6.293185307179586,
       "step": 0.01,
       "style": "IPY_MODEL_05946517903d4c09ad0cfd5d910a57f0"
      }
     },
     "a0236b83c4164a06807bd926a87da9b9": {
      "model_module": "@jupyter-widgets/controls",
      "model_module_version": "1.5.0",
      "model_name": "IntSliderModel",
      "state": {
       "description": "slider 2",
       "layout": "IPY_MODEL_ea174b7f1ce34072b2a068c56fbf361c",
       "max": 10,
       "style": "IPY_MODEL_c342313abe7f44df8e3ba227b65dad2c",
       "value": 5
      }
     },
     "a0c3b81e9ee1401ba7c44d1348bed575": {
      "model_module": "jupyter-matplotlib",
      "model_module_version": "^0.7.4",
      "model_name": "ToolbarModel",
      "state": {
       "layout": "IPY_MODEL_b15d70dc2ba146a7b5db9662cd7e86dd",
       "toolitems": [
        [
         "Home",
         "Reset original view",
         "home",
         "home"
        ],
        [
         "Back",
         "Back to previous view",
         "arrow-left",
         "back"
        ],
        [
         "Forward",
         "Forward to next view",
         "arrow-right",
         "forward"
        ],
        [
         "Pan",
         "Left button pans, Right button zooms\nx/y fixes axis, CTRL fixes aspect",
         "arrows",
         "pan"
        ],
        [
         "Zoom",
         "Zoom to rectangle\nx/y fixes axis, CTRL fixes aspect",
         "square-o",
         "zoom"
        ],
        [
         "Download",
         "Download plot",
         "floppy-o",
         "save_figure"
        ]
       ]
      }
     },
     "a1932025126c4867930d9e7d803b4ce2": {
      "model_module": "@jupyter-widgets/base",
      "model_module_version": "1.2.0",
      "model_name": "LayoutModel",
      "state": {}
     },
     "a3fd9a812160494f8a74323110ad3889": {
      "model_module": "jupyter-matplotlib",
      "model_module_version": "^0.7.4",
      "model_name": "MPLCanvasModel",
      "state": {
       "_cursor": "default",
       "_figure_label": "Figure 13",
       "_height": 480,
       "_image_mode": "diff",
       "_width": 640,
       "layout": "IPY_MODEL_1c297afd439e43d0b5ffeb98a4981022",
       "toolbar": "IPY_MODEL_254465c614034e77b587253cf367cf40",
       "toolbar_position": "left"
      }
     },
     "a43e89ef127245bd9c54b19f19acb808": {
      "model_module": "@jupyter-widgets/base",
      "model_module_version": "1.2.0",
      "model_name": "LayoutModel",
      "state": {}
     },
     "a4793647b03845a5a01f37a2c3b579ba": {
      "model_module": "jupyter-matplotlib",
      "model_module_version": "^0.7.4",
      "model_name": "ToolbarModel",
      "state": {
       "layout": "IPY_MODEL_8b5846fb99464396bc3462650cdce5f9",
       "toolitems": [
        [
         "Home",
         "Reset original view",
         "home",
         "home"
        ],
        [
         "Back",
         "Back to previous view",
         "arrow-left",
         "back"
        ],
        [
         "Forward",
         "Forward to next view",
         "arrow-right",
         "forward"
        ],
        [
         "Pan",
         "Left button pans, Right button zooms\nx/y fixes axis, CTRL fixes aspect",
         "arrows",
         "pan"
        ],
        [
         "Zoom",
         "Zoom to rectangle\nx/y fixes axis, CTRL fixes aspect",
         "square-o",
         "zoom"
        ],
        [
         "Download",
         "Download plot",
         "floppy-o",
         "save_figure"
        ]
       ]
      }
     },
     "a560083540b4460fbe15193099e32527": {
      "model_module": "@jupyter-widgets/base",
      "model_module_version": "1.2.0",
      "model_name": "LayoutModel",
      "state": {}
     },
     "a6390fc5b4084746be825533a66ebc1d": {
      "model_module": "@jupyter-widgets/base",
      "model_module_version": "1.2.0",
      "model_name": "LayoutModel",
      "state": {}
     },
     "a69867f1328f45a28e1e8df78756320c": {
      "model_module": "jupyter-matplotlib",
      "model_module_version": "^0.7.4",
      "model_name": "MPLCanvasModel",
      "state": {
       "layout": "IPY_MODEL_d680646b41ac44ec8053825d88a5157c",
       "toolbar": "IPY_MODEL_a0c3b81e9ee1401ba7c44d1348bed575",
       "toolbar_position": "left"
      }
     },
     "a6c6d2023aa543f391c8c7f1357033fc": {
      "model_module": "jupyter-matplotlib",
      "model_module_version": "^0.7.4",
      "model_name": "ToolbarModel",
      "state": {
       "layout": "IPY_MODEL_b99809a371484779b854f5e4d721e73f",
       "toolitems": [
        [
         "Home",
         "Reset original view",
         "home",
         "home"
        ],
        [
         "Back",
         "Back to previous view",
         "arrow-left",
         "back"
        ],
        [
         "Forward",
         "Forward to next view",
         "arrow-right",
         "forward"
        ],
        [
         "Pan",
         "Left button pans, Right button zooms\nx/y fixes axis, CTRL fixes aspect",
         "arrows",
         "pan"
        ],
        [
         "Zoom",
         "Zoom to rectangle\nx/y fixes axis, CTRL fixes aspect",
         "square-o",
         "zoom"
        ],
        [
         "Download",
         "Download plot",
         "floppy-o",
         "save_figure"
        ]
       ]
      }
     },
     "a84a42e19856468ebc353582b60a9bac": {
      "model_module": "@jupyter-widgets/controls",
      "model_module_version": "1.5.0",
      "model_name": "SliderStyleModel",
      "state": {
       "description_width": ""
      }
     },
     "a992b0dab4b9414bbd1a351d32958742": {
      "model_module": "jupyter-matplotlib",
      "model_module_version": "^0.7.4",
      "model_name": "ToolbarModel",
      "state": {
       "layout": "IPY_MODEL_dcd3bdc5947e47ae8948abdf1937d45d",
       "toolitems": [
        [
         "Home",
         "Reset original view",
         "home",
         "home"
        ],
        [
         "Back",
         "Back to previous view",
         "arrow-left",
         "back"
        ],
        [
         "Forward",
         "Forward to next view",
         "arrow-right",
         "forward"
        ],
        [
         "Pan",
         "Left button pans, Right button zooms\nx/y fixes axis, CTRL fixes aspect",
         "arrows",
         "pan"
        ],
        [
         "Zoom",
         "Zoom to rectangle\nx/y fixes axis, CTRL fixes aspect",
         "square-o",
         "zoom"
        ],
        [
         "Download",
         "Download plot",
         "floppy-o",
         "save_figure"
        ]
       ]
      }
     },
     "a9aaa708e7f649f281414faa91d4173f": {
      "model_module": "@jupyter-widgets/base",
      "model_module_version": "1.2.0",
      "model_name": "LayoutModel",
      "state": {}
     },
     "aa0756082f704117bbe2d6be11145ea7": {
      "model_module": "@jupyter-widgets/output",
      "model_module_version": "1.0.0",
      "model_name": "OutputModel",
      "state": {
       "layout": "IPY_MODEL_8a26d7e4c86b438a907affba696cb3c9",
       "outputs": [
        {
         "name": "stdout",
         "output_type": "stream",
         "text": "Widget says: 8.0\n"
        }
       ]
      }
     },
     "aa4de30a27bf406290844c8bfc109310": {
      "model_module": "@jupyter-widgets/base",
      "model_module_version": "1.2.0",
      "model_name": "LayoutModel",
      "state": {}
     },
     "aaa16d30b9f14a7989788a7f072396b4": {
      "model_module": "@jupyter-widgets/base",
      "model_module_version": "1.2.0",
      "model_name": "LayoutModel",
      "state": {}
     },
     "aabb9005a91a463badaeb5a4a24be2ab": {
      "model_module": "@jupyter-widgets/base",
      "model_module_version": "1.2.0",
      "model_name": "LayoutModel",
      "state": {}
     },
     "ab283b104ab040a286b9ebb95077df0f": {
      "model_module": "@jupyter-widgets/output",
      "model_module_version": "1.0.0",
      "model_name": "OutputModel",
      "state": {
       "layout": "IPY_MODEL_2244a6357ac646e4938cd1cb139ce7c4"
      }
     },
     "abbfa57fd79a4877b68ee292cb919b62": {
      "model_module": "@jupyter-widgets/controls",
      "model_module_version": "1.5.0",
      "model_name": "DescriptionStyleModel",
      "state": {
       "description_width": ""
      }
     },
     "acacbe7c8e2d4f05af32d1fc666648e0": {
      "model_module": "@jupyter-widgets/base",
      "model_module_version": "1.2.0",
      "model_name": "LayoutModel",
      "state": {}
     },
     "add06e37331345fbaeb2e87c4843a898": {
      "model_module": "@jupyter-widgets/controls",
      "model_module_version": "1.5.0",
      "model_name": "CheckboxModel",
      "state": {
       "description": "x",
       "disabled": false,
       "layout": "IPY_MODEL_cc742a552eff487681f1d1da943f1a43",
       "style": "IPY_MODEL_3898c4da06a247bc8da2403abb58cdf3",
       "value": true
      }
     },
     "ade1b6704c1e4cdc885e551ffaa04c27": {
      "model_module": "@jupyter-widgets/base",
      "model_module_version": "1.2.0",
      "model_name": "LayoutModel",
      "state": {}
     },
     "aeab8e7595734788a54513d0fa163667": {
      "model_module": "jupyter-matplotlib",
      "model_module_version": "^0.7.4",
      "model_name": "ToolbarModel",
      "state": {
       "layout": "IPY_MODEL_652a35e78576401aa81fe7252facb14d",
       "toolitems": [
        [
         "Home",
         "Reset original view",
         "home",
         "home"
        ],
        [
         "Back",
         "Back to previous view",
         "arrow-left",
         "back"
        ],
        [
         "Forward",
         "Forward to next view",
         "arrow-right",
         "forward"
        ],
        [
         "Pan",
         "Left button pans, Right button zooms\nx/y fixes axis, CTRL fixes aspect",
         "arrows",
         "pan"
        ],
        [
         "Zoom",
         "Zoom to rectangle\nx/y fixes axis, CTRL fixes aspect",
         "square-o",
         "zoom"
        ],
        [
         "Download",
         "Download plot",
         "floppy-o",
         "save_figure"
        ]
       ]
      }
     },
     "af2a6942846542edb52362c12b9afe6b": {
      "model_module": "@jupyter-widgets/controls",
      "model_module_version": "1.5.0",
      "model_name": "IntSliderModel",
      "state": {
       "description": "w",
       "layout": "IPY_MODEL_7735bf6a1b9d443db48cec60dcde2527",
       "max": 10,
       "style": "IPY_MODEL_3108933310384bef865db690982cd71e",
       "value": 4
      }
     },
     "af5f6f84703f44cebd5685fa1439ec80": {
      "model_module": "jupyter-matplotlib",
      "model_module_version": "^0.7.4",
      "model_name": "MPLCanvasModel",
      "state": {
       "_cursor": "default",
       "_figure_label": "Figure 19",
       "_height": 480,
       "_image_mode": "diff",
       "_width": 640,
       "layout": "IPY_MODEL_8b551df5d903490b980d83ba04a82d4c",
       "toolbar": "IPY_MODEL_39cbb4c1a2f54c078d7a9639f178a7cd",
       "toolbar_position": "left"
      }
     },
     "af6e959c7a9c497583608014ec5b53d3": {
      "model_module": "jupyter-matplotlib",
      "model_module_version": "^0.7.4",
      "model_name": "MPLCanvasModel",
      "state": {
       "_cursor": "default",
       "_figure_label": "Figure 28",
       "_height": 480,
       "_image_mode": "diff",
       "_width": 640,
       "layout": "IPY_MODEL_4c2b23567d884cdba28f8a67f3f97ceb",
       "toolbar": "IPY_MODEL_d12c8b7d1ad24504b32fa1520c89bac7",
       "toolbar_position": "left"
      }
     },
     "afffba7691d746d0ab3aceb4b2461e28": {
      "model_module": "@jupyter-widgets/controls",
      "model_module_version": "1.5.0",
      "model_name": "VBoxModel",
      "state": {
       "_dom_classes": [
        "widget-interact"
       ],
       "children": [
        "IPY_MODEL_e87a34e827264b8dbd5b90823cbd7934",
        "IPY_MODEL_87f58523bd8640cebaa03ff480325a20",
        "IPY_MODEL_87f3912d77524ff0834b6777660d355d",
        "IPY_MODEL_84228d45a0c54b8ca6213426b83fa3fe"
       ],
       "layout": "IPY_MODEL_98891a4596fe4613ab05829006452df4"
      }
     },
     "b0b243c384314b68b5c447f2b90161fb": {
      "model_module": "jupyter-matplotlib",
      "model_module_version": "^0.7.4",
      "model_name": "ToolbarModel",
      "state": {
       "layout": "IPY_MODEL_58dc709fb3734100880d53b656834723",
       "toolitems": [
        [
         "Home",
         "Reset original view",
         "home",
         "home"
        ],
        [
         "Back",
         "Back to previous view",
         "arrow-left",
         "back"
        ],
        [
         "Forward",
         "Forward to next view",
         "arrow-right",
         "forward"
        ],
        [
         "Pan",
         "Left button pans, Right button zooms\nx/y fixes axis, CTRL fixes aspect",
         "arrows",
         "pan"
        ],
        [
         "Zoom",
         "Zoom to rectangle\nx/y fixes axis, CTRL fixes aspect",
         "square-o",
         "zoom"
        ],
        [
         "Download",
         "Download plot",
         "floppy-o",
         "save_figure"
        ]
       ]
      }
     },
     "b15d70dc2ba146a7b5db9662cd7e86dd": {
      "model_module": "@jupyter-widgets/base",
      "model_module_version": "1.2.0",
      "model_name": "LayoutModel",
      "state": {}
     },
     "b1f5710c0b7e4735acfc612f563b4751": {
      "model_module": "@jupyter-widgets/controls",
      "model_module_version": "1.5.0",
      "model_name": "SliderStyleModel",
      "state": {
       "description_width": ""
      }
     },
     "b289d29b69cc43348e1485ad1c52b04a": {
      "model_module": "@jupyter-widgets/controls",
      "model_module_version": "1.5.0",
      "model_name": "IntSliderModel",
      "state": {
       "description": "w",
       "layout": "IPY_MODEL_d8dfb5ea2b9c437487ae7b233418f6a7",
       "max": 10,
       "style": "IPY_MODEL_0ce5948d312e43cf806d8c73fa1a009e",
       "value": 9
      }
     },
     "b2ce94e03f314ad9bdc193ac83d5917e": {
      "model_module": "@jupyter-widgets/output",
      "model_module_version": "1.0.0",
      "model_name": "OutputModel",
      "state": {
       "layout": "IPY_MODEL_0e2403e558f4442697338653c8329383"
      }
     },
     "b3d0962f27bf417996c12892c96f7b4b": {
      "model_module": "jupyter-matplotlib",
      "model_module_version": "^0.7.4",
      "model_name": "ToolbarModel",
      "state": {
       "layout": "IPY_MODEL_7f5f5cc8110f4a9f9e2247999aeab9f5",
       "toolitems": [
        [
         "Home",
         "Reset original view",
         "home",
         "home"
        ],
        [
         "Back",
         "Back to previous view",
         "arrow-left",
         "back"
        ],
        [
         "Forward",
         "Forward to next view",
         "arrow-right",
         "forward"
        ],
        [
         "Pan",
         "Left button pans, Right button zooms\nx/y fixes axis, CTRL fixes aspect",
         "arrows",
         "pan"
        ],
        [
         "Zoom",
         "Zoom to rectangle\nx/y fixes axis, CTRL fixes aspect",
         "square-o",
         "zoom"
        ],
        [
         "Download",
         "Download plot",
         "floppy-o",
         "save_figure"
        ]
       ]
      }
     },
     "b45984b131f64e4baee930f03aa9e11a": {
      "model_module": "@jupyter-widgets/base",
      "model_module_version": "1.2.0",
      "model_name": "LayoutModel",
      "state": {}
     },
     "b46e66589ad344f686399fb9b7403547": {
      "model_module": "@jupyter-widgets/controls",
      "model_module_version": "1.5.0",
      "model_name": "SliderStyleModel",
      "state": {
       "description_width": ""
      }
     },
     "b4ea83946a2d417a8760d1c98522d886": {
      "model_module": "@jupyter-widgets/base",
      "model_module_version": "1.2.0",
      "model_name": "LayoutModel",
      "state": {}
     },
     "b58c2f3d129a4f708678cb6469e072e4": {
      "model_module": "@jupyter-widgets/base",
      "model_module_version": "1.2.0",
      "model_name": "LayoutModel",
      "state": {}
     },
     "b6546c61b36d4f35a1e1c6efaeed67a1": {
      "model_module": "@jupyter-widgets/base",
      "model_module_version": "1.2.0",
      "model_name": "LayoutModel",
      "state": {}
     },
     "b69ee825bb734af79ff0037b6e78af50": {
      "model_module": "jupyter-matplotlib",
      "model_module_version": "^0.7.4",
      "model_name": "MPLCanvasModel",
      "state": {
       "_cursor": "default",
       "_figure_label": "Figure 12",
       "_height": 480,
       "_image_mode": "diff",
       "_width": 640,
       "layout": "IPY_MODEL_2fc84bde0498417bbf8798f631511af3",
       "toolbar": "IPY_MODEL_841cc39026544f508e20be5d3e68ad15",
       "toolbar_position": "left"
      }
     },
     "b6bfb82e9b6a4ad997df8b1c8015245a": {
      "model_module": "jupyter-matplotlib",
      "model_module_version": "^0.7.4",
      "model_name": "MPLCanvasModel",
      "state": {
       "_cursor": "default",
       "_figure_label": "Figure 21",
       "_height": 480,
       "_image_mode": "diff",
       "_width": 640,
       "layout": "IPY_MODEL_05277099adf146eabe62285874261be2",
       "toolbar": "IPY_MODEL_17b40215b46b4b5cbe5746d1fb30d33d",
       "toolbar_position": "left"
      }
     },
     "b76b10bba566441ba1a430b268ca0a6f": {
      "model_module": "@jupyter-widgets/base",
      "model_module_version": "1.2.0",
      "model_name": "LayoutModel",
      "state": {}
     },
     "b79b467447fa4e71a642d814c368361f": {
      "model_module": "@jupyter-widgets/controls",
      "model_module_version": "1.5.0",
      "model_name": "VBoxModel",
      "state": {
       "children": [
        "IPY_MODEL_c5ef737978834340935d5ef674bf65cd",
        "IPY_MODEL_a0236b83c4164a06807bd926a87da9b9"
       ],
       "layout": "IPY_MODEL_713c8f6dd2624e67b943e9916ccd11ca"
      }
     },
     "b99809a371484779b854f5e4d721e73f": {
      "model_module": "@jupyter-widgets/base",
      "model_module_version": "1.2.0",
      "model_name": "LayoutModel",
      "state": {}
     },
     "ba946a9918e44bb68cee0f28d09a1ad3": {
      "model_module": "@jupyter-widgets/base",
      "model_module_version": "1.2.0",
      "model_name": "LayoutModel",
      "state": {}
     },
     "bbd5296a31d141faa4fb096d3310a3f2": {
      "model_module": "@jupyter-widgets/base",
      "model_module_version": "1.2.0",
      "model_name": "LayoutModel",
      "state": {}
     },
     "bc58e90a77064b91a3a0cace9f8ac53c": {
      "model_module": "jupyter-matplotlib",
      "model_module_version": "^0.7.4",
      "model_name": "MPLCanvasModel",
      "state": {
       "_cursor": "default",
       "_figure_label": "Figure 23",
       "_height": 400,
       "_image_mode": "diff",
       "_width": 600,
       "layout": "IPY_MODEL_2670d24b20c147b7be207bb135450e86",
       "toolbar": "IPY_MODEL_87b9d3a49b614062b4f201a592006b16",
       "toolbar_position": "left"
      }
     },
     "bcb25920ac1c4a1cbe9acf4d39e8d50b": {
      "model_module": "@jupyter-widgets/base",
      "model_module_version": "1.2.0",
      "model_name": "LayoutModel",
      "state": {}
     },
     "bd24213a918340be96c6e4b91982030c": {
      "model_module": "@jupyter-widgets/controls",
      "model_module_version": "1.5.0",
      "model_name": "IntSliderModel",
      "state": {
       "description": "slider 2",
       "layout": "IPY_MODEL_151c9be2e2c040dfb06efe702a7b45e5",
       "max": 10,
       "min": 4,
       "style": "IPY_MODEL_b1f5710c0b7e4735acfc612f563b4751",
       "value": 10
      }
     },
     "bd4fddb99d3b439b9cb11b84999cc581": {
      "model_module": "@jupyter-widgets/base",
      "model_module_version": "1.2.0",
      "model_name": "LayoutModel",
      "state": {}
     },
     "bf51c50b657d47d0a6bd476e80b84201": {
      "model_module": "jupyter-matplotlib",
      "model_module_version": "^0.7.4",
      "model_name": "MPLCanvasModel",
      "state": {
       "_cursor": "default",
       "_figure_label": "Figure 4",
       "_height": 400,
       "_image_mode": "diff",
       "_message": "x=2.37 y=−10.42",
       "_width": 600,
       "layout": "IPY_MODEL_a9aaa708e7f649f281414faa91d4173f",
       "toolbar": "IPY_MODEL_d7a18685b4c64f1db462a98a00e4f9e2",
       "toolbar_position": "left"
      }
     },
     "c012bc75a69d413dbbc48418f3c06cfe": {
      "model_module": "@jupyter-widgets/base",
      "model_module_version": "1.2.0",
      "model_name": "LayoutModel",
      "state": {}
     },
     "c0ae5102be1b4159a5eafe04f10e63d2": {
      "model_module": "@jupyter-widgets/base",
      "model_module_version": "1.2.0",
      "model_name": "LayoutModel",
      "state": {}
     },
     "c1a2251a54104ea7af678b9e07345e94": {
      "model_module": "@jupyter-widgets/controls",
      "model_module_version": "1.5.0",
      "model_name": "VBoxModel",
      "state": {
       "children": [
        "IPY_MODEL_7bbaa45bec3640b79983c1102a29bf81",
        "IPY_MODEL_bd24213a918340be96c6e4b91982030c"
       ],
       "layout": "IPY_MODEL_aaa16d30b9f14a7989788a7f072396b4"
      }
     },
     "c1f70efc4f1841bfa5dd0cd7b8baea00": {
      "model_module": "@jupyter-widgets/base",
      "model_module_version": "1.2.0",
      "model_name": "LayoutModel",
      "state": {}
     },
     "c21735359a9742e9b7be7d7639331e58": {
      "model_module": "@jupyter-widgets/base",
      "model_module_version": "1.2.0",
      "model_name": "LayoutModel",
      "state": {}
     },
     "c342313abe7f44df8e3ba227b65dad2c": {
      "model_module": "@jupyter-widgets/controls",
      "model_module_version": "1.5.0",
      "model_name": "SliderStyleModel",
      "state": {
       "description_width": ""
      }
     },
     "c3fac698bd204d90bdc58649a4788ed8": {
      "model_module": "@jupyter-widgets/controls",
      "model_module_version": "1.5.0",
      "model_name": "SliderStyleModel",
      "state": {
       "description_width": ""
      }
     },
     "c4b44867c4d44451a30939e6338d64d7": {
      "model_module": "@jupyter-widgets/controls",
      "model_module_version": "1.5.0",
      "model_name": "VBoxModel",
      "state": {
       "_dom_classes": [
        "widget-interact"
       ],
       "children": [
        "IPY_MODEL_71817dafdd23420cbe0a1954d217845e",
        "IPY_MODEL_2bfd8908d0694a64a6f37a4b9d074277",
        "IPY_MODEL_849bf64019314d49a58dc893f09e2aa2"
       ],
       "layout": "IPY_MODEL_7c29ce0bc156423b9c9d9ee8ce4e113b"
      }
     },
     "c5ef737978834340935d5ef674bf65cd": {
      "model_module": "@jupyter-widgets/controls",
      "model_module_version": "1.5.0",
      "model_name": "IntSliderModel",
      "state": {
       "description": "slider 1",
       "layout": "IPY_MODEL_2b3d5f96879c46c7834b27e8c42f3935",
       "max": 10,
       "style": "IPY_MODEL_67f0a3a707694d10bbd8b6b11f51544b"
      }
     },
     "c6a800f2c10f4e26a34d3fe524a768a9": {
      "model_module": "jupyter-matplotlib",
      "model_module_version": "^0.7.4",
      "model_name": "ToolbarModel",
      "state": {
       "collapsed": false,
       "layout": "IPY_MODEL_1f97704f00424d33947facd2bed2460c",
       "toolitems": [
        [
         "Home",
         "Reset original view",
         "home",
         "home"
        ],
        [
         "Back",
         "Back to previous view",
         "arrow-left",
         "back"
        ],
        [
         "Forward",
         "Forward to next view",
         "arrow-right",
         "forward"
        ],
        [
         "Pan",
         "Left button pans, Right button zooms\nx/y fixes axis, CTRL fixes aspect",
         "arrows",
         "pan"
        ],
        [
         "Zoom",
         "Zoom to rectangle\nx/y fixes axis, CTRL fixes aspect",
         "square-o",
         "zoom"
        ],
        [
         "Download",
         "Download plot",
         "floppy-o",
         "save_figure"
        ]
       ]
      }
     },
     "c7aa5eae195d4c3ab8a8efa9d760548b": {
      "model_module": "jupyter-matplotlib",
      "model_module_version": "^0.7.4",
      "model_name": "MPLCanvasModel",
      "state": {
       "layout": "IPY_MODEL_8f3f2f4f19da4d7289dc2d5758fa438a",
       "toolbar": "IPY_MODEL_1a2845e72c4e4f2f8ad5eb14d8f86ed3",
       "toolbar_position": "left"
      }
     },
     "ca4a8c452a2b4d0a82bba7e3d06bccc7": {
      "model_module": "@jupyter-widgets/base",
      "model_module_version": "1.2.0",
      "model_name": "LayoutModel",
      "state": {}
     },
     "ca4caf168da24080a9963ee1da548228": {
      "model_module": "@jupyter-widgets/controls",
      "model_module_version": "1.5.0",
      "model_name": "IntSliderModel",
      "state": {
       "continuous_update": false,
       "description": "$\\omega$",
       "layout": "IPY_MODEL_ec169752402f407e80be7283bab3a479",
       "max": 10,
       "style": "IPY_MODEL_cd0951cb7b604c5288f0057179e4649f",
       "value": 3
      }
     },
     "ca7dbbdf8b1a450694cc52f6d38fe5cc": {
      "model_module": "@jupyter-widgets/base",
      "model_module_version": "1.2.0",
      "model_name": "LayoutModel",
      "state": {}
     },
     "cc742a552eff487681f1d1da943f1a43": {
      "model_module": "@jupyter-widgets/base",
      "model_module_version": "1.2.0",
      "model_name": "LayoutModel",
      "state": {}
     },
     "cd0951cb7b604c5288f0057179e4649f": {
      "model_module": "@jupyter-widgets/controls",
      "model_module_version": "1.5.0",
      "model_name": "SliderStyleModel",
      "state": {
       "description_width": ""
      }
     },
     "cd2bb28d17d04d4a917836328b2b6b27": {
      "model_module": "jupyter-matplotlib",
      "model_module_version": "^0.7.4",
      "model_name": "MPLCanvasModel",
      "state": {
       "_cursor": "default",
       "_figure_label": "Figure 5",
       "_height": 480,
       "_image_mode": "diff",
       "_width": 640,
       "layout": "IPY_MODEL_cea72479b3524ca3881d618cffb1b5bb",
       "toolbar": "IPY_MODEL_8b3894f8b5b345d393329467173f3e1e",
       "toolbar_position": "left"
      }
     },
     "cd39c494fb2c4fdc8e5abfbdba9ce1ce": {
      "model_module": "@jupyter-widgets/controls",
      "model_module_version": "1.5.0",
      "model_name": "IntSliderModel",
      "state": {
       "description": "x",
       "layout": "IPY_MODEL_c1f70efc4f1841bfa5dd0cd7b8baea00",
       "max": 10,
       "style": "IPY_MODEL_dd7750ba46064da4b726951e4fcea038",
       "value": 10
      }
     },
     "cea72479b3524ca3881d618cffb1b5bb": {
      "model_module": "@jupyter-widgets/base",
      "model_module_version": "1.2.0",
      "model_name": "LayoutModel",
      "state": {}
     },
     "cf8d5eacd9f14efe976b76ef62ffec81": {
      "model_module": "@jupyter-widgets/controls",
      "model_module_version": "1.5.0",
      "model_name": "IntSliderModel",
      "state": {
       "continuous_update": false,
       "description": "$\\omega$",
       "layout": "IPY_MODEL_edb6495fa64941a88d433bd9532aaa8a",
       "max": 10,
       "style": "IPY_MODEL_a84a42e19856468ebc353582b60a9bac",
       "value": 1
      }
     },
     "cf8d9fad19694cca8812df30320195b7": {
      "model_module": "@jupyter-widgets/controls",
      "model_module_version": "1.5.0",
      "model_name": "SliderStyleModel",
      "state": {
       "description_width": ""
      }
     },
     "cfc7ee59c2064a6abee03127005f52b3": {
      "model_module": "@jupyter-widgets/base",
      "model_module_version": "1.2.0",
      "model_name": "LayoutModel",
      "state": {}
     },
     "cfe3901d755f429b9fbe220a5593a7c0": {
      "model_module": "@jupyter-widgets/base",
      "model_module_version": "1.2.0",
      "model_name": "LayoutModel",
      "state": {}
     },
     "d12c8b7d1ad24504b32fa1520c89bac7": {
      "model_module": "jupyter-matplotlib",
      "model_module_version": "^0.7.4",
      "model_name": "ToolbarModel",
      "state": {
       "layout": "IPY_MODEL_49253d2456ac4c71b267ff3ac107c051",
       "toolitems": [
        [
         "Home",
         "Reset original view",
         "home",
         "home"
        ],
        [
         "Back",
         "Back to previous view",
         "arrow-left",
         "back"
        ],
        [
         "Forward",
         "Forward to next view",
         "arrow-right",
         "forward"
        ],
        [
         "Pan",
         "Left button pans, Right button zooms\nx/y fixes axis, CTRL fixes aspect",
         "arrows",
         "pan"
        ],
        [
         "Zoom",
         "Zoom to rectangle\nx/y fixes axis, CTRL fixes aspect",
         "square-o",
         "zoom"
        ],
        [
         "Download",
         "Download plot",
         "floppy-o",
         "save_figure"
        ]
       ]
      }
     },
     "d1c4a3ddffff49e9ab24c3758b20f0e0": {
      "model_module": "@jupyter-widgets/controls",
      "model_module_version": "1.5.0",
      "model_name": "SliderStyleModel",
      "state": {
       "description_width": ""
      }
     },
     "d1c4fc295f9f4208a56ffa32d4f4ca83": {
      "model_module": "@jupyter-widgets/controls",
      "model_module_version": "1.5.0",
      "model_name": "SliderStyleModel",
      "state": {
       "description_width": ""
      }
     },
     "d23d964de2504d9abfddbad043ed4d39": {
      "model_module": "@jupyter-widgets/controls",
      "model_module_version": "1.5.0",
      "model_name": "IntSliderModel",
      "state": {
       "description": "w",
       "layout": "IPY_MODEL_a1932025126c4867930d9e7d803b4ce2",
       "max": 10,
       "style": "IPY_MODEL_0e8cbd7523314dfab1d768d25a25a257",
       "value": 4
      }
     },
     "d2ac470446744e3aaac5a29c172fa835": {
      "model_module": "@jupyter-widgets/controls",
      "model_module_version": "1.5.0",
      "model_name": "SliderStyleModel",
      "state": {
       "description_width": ""
      }
     },
     "d3b1ae3944e7474d8b5621bb89944920": {
      "model_module": "@jupyter-widgets/controls",
      "model_module_version": "1.5.0",
      "model_name": "FloatSliderModel",
      "state": {
       "description": "phi",
       "layout": "IPY_MODEL_41b7de5874644ca78554da4654dc236f",
       "max": 6.293185307179586,
       "step": 0.01,
       "style": "IPY_MODEL_887a0e301f4348b8a23eab95180c2644"
      }
     },
     "d48605820e64434cb1e67dc294cfc7e0": {
      "model_module": "jupyter-matplotlib",
      "model_module_version": "^0.7.4",
      "model_name": "MPLCanvasModel",
      "state": {
       "layout": "IPY_MODEL_ed181d66dae74da2bc1012462bd8fabd",
       "toolbar": "IPY_MODEL_089784a3e4b648e8a708061fcef9eedc",
       "toolbar_position": "left"
      }
     },
     "d5606afbeb9f424bab3cad7be29d6318": {
      "model_module": "jupyter-matplotlib",
      "model_module_version": "^0.7.4",
      "model_name": "MPLCanvasModel",
      "state": {
       "layout": "IPY_MODEL_54d83eaa2154442d99a4b392855c7ccb",
       "toolbar": "IPY_MODEL_aeab8e7595734788a54513d0fa163667",
       "toolbar_position": "left"
      }
     },
     "d60fbaf867984196ad6d10ce27fb56ea": {
      "model_module": "jupyter-matplotlib",
      "model_module_version": "^0.7.4",
      "model_name": "MPLCanvasModel",
      "state": {
       "layout": "IPY_MODEL_960738fba8294f56b58cc30c51e93734",
       "toolbar": "IPY_MODEL_913a8de4933e4a088eccac41d063f15a",
       "toolbar_position": "left"
      }
     },
     "d680646b41ac44ec8053825d88a5157c": {
      "model_module": "@jupyter-widgets/base",
      "model_module_version": "1.2.0",
      "model_name": "LayoutModel",
      "state": {}
     },
     "d763e047d5974e92ac9a625297f443f6": {
      "model_module": "@jupyter-widgets/base",
      "model_module_version": "1.2.0",
      "model_name": "LayoutModel",
      "state": {}
     },
     "d78d04f7d86c497aa4130d6c1d26fb30": {
      "model_module": "@jupyter-widgets/base",
      "model_module_version": "1.2.0",
      "model_name": "LayoutModel",
      "state": {}
     },
     "d7a18685b4c64f1db462a98a00e4f9e2": {
      "model_module": "jupyter-matplotlib",
      "model_module_version": "^0.7.4",
      "model_name": "ToolbarModel",
      "state": {
       "layout": "IPY_MODEL_8a29eb265980458782d35511da5839e2",
       "toolitems": [
        [
         "Home",
         "Reset original view",
         "home",
         "home"
        ],
        [
         "Back",
         "Back to previous view",
         "arrow-left",
         "back"
        ],
        [
         "Forward",
         "Forward to next view",
         "arrow-right",
         "forward"
        ],
        [
         "Pan",
         "Left button pans, Right button zooms\nx/y fixes axis, CTRL fixes aspect",
         "arrows",
         "pan"
        ],
        [
         "Zoom",
         "Zoom to rectangle\nx/y fixes axis, CTRL fixes aspect",
         "square-o",
         "zoom"
        ],
        [
         "Download",
         "Download plot",
         "floppy-o",
         "save_figure"
        ]
       ]
      }
     },
     "d8dfb5ea2b9c437487ae7b233418f6a7": {
      "model_module": "@jupyter-widgets/base",
      "model_module_version": "1.2.0",
      "model_name": "LayoutModel",
      "state": {}
     },
     "d962a21cdb3f43cd8668749c708828ac": {
      "model_module": "@jupyter-widgets/controls",
      "model_module_version": "1.5.0",
      "model_name": "SliderStyleModel",
      "state": {
       "description_width": ""
      }
     },
     "d98c937d01eb4652bac6eaaeda0897a1": {
      "model_module": "@jupyter-widgets/controls",
      "model_module_version": "1.5.0",
      "model_name": "VBoxModel",
      "state": {
       "_dom_classes": [
        "widget-interact"
       ],
       "children": [
        "IPY_MODEL_9d4dbae3001148b585292d4eb40500b9",
        "IPY_MODEL_6a52597206894f5185858d747900d7ce",
        "IPY_MODEL_9f63e369091043d4aeaaa50789a7db0e",
        "IPY_MODEL_9c04a22c527746d288b1bf5bd9dbc9c6"
       ],
       "layout": "IPY_MODEL_59640152e7ee4f899dfa4efd35905427"
      }
     },
     "dcd3bdc5947e47ae8948abdf1937d45d": {
      "model_module": "@jupyter-widgets/base",
      "model_module_version": "1.2.0",
      "model_name": "LayoutModel",
      "state": {}
     },
     "dd3f0f0a9a03432dac46410650928c9c": {
      "model_module": "@jupyter-widgets/controls",
      "model_module_version": "1.5.0",
      "model_name": "IntSliderModel",
      "state": {
       "description": "w",
       "layout": "IPY_MODEL_3fa8436a235d4486bf93213d5e7795c0",
       "max": 10,
       "style": "IPY_MODEL_06bc1a77515447b6b3317defab4afb45",
       "value": 1
      }
     },
     "dd7750ba46064da4b726951e4fcea038": {
      "model_module": "@jupyter-widgets/controls",
      "model_module_version": "1.5.0",
      "model_name": "SliderStyleModel",
      "state": {
       "description_width": ""
      }
     },
     "e15c088be22b4a0ba3fa4c97fea59a59": {
      "model_module": "jupyter-matplotlib",
      "model_module_version": "^0.7.4",
      "model_name": "ToolbarModel",
      "state": {
       "layout": "IPY_MODEL_0038d68b174c4331bb843cd446827473",
       "toolitems": [
        [
         "Home",
         "Reset original view",
         "home",
         "home"
        ],
        [
         "Back",
         "Back to previous view",
         "arrow-left",
         "back"
        ],
        [
         "Forward",
         "Forward to next view",
         "arrow-right",
         "forward"
        ],
        [
         "Pan",
         "Left button pans, Right button zooms\nx/y fixes axis, CTRL fixes aspect",
         "arrows",
         "pan"
        ],
        [
         "Zoom",
         "Zoom to rectangle\nx/y fixes axis, CTRL fixes aspect",
         "square-o",
         "zoom"
        ],
        [
         "Download",
         "Download plot",
         "floppy-o",
         "save_figure"
        ]
       ]
      }
     },
     "e1f5dc4433ff4355be3e8514cf62a5f6": {
      "model_module": "jupyter-matplotlib",
      "model_module_version": "^0.7.4",
      "model_name": "MPLCanvasModel",
      "state": {
       "_cursor": "default",
       "_figure_label": "Figure 11",
       "_height": 480,
       "_image_mode": "diff",
       "_width": 640,
       "layout": "IPY_MODEL_1c8692161eae4bd2b645865b15187512",
       "toolbar": "IPY_MODEL_a4793647b03845a5a01f37a2c3b579ba",
       "toolbar_position": "left"
      }
     },
     "e2d252b8738d411fb85e8ef805ffd74b": {
      "model_module": "@jupyter-widgets/controls",
      "model_module_version": "1.5.0",
      "model_name": "SliderStyleModel",
      "state": {
       "description_width": ""
      }
     },
     "e48b313103a04b898c4a73b74074bf41": {
      "model_module": "@jupyter-widgets/base",
      "model_module_version": "1.2.0",
      "model_name": "LayoutModel",
      "state": {}
     },
     "e4d35fb80ebe4e449a6bdcf936d28e4c": {
      "model_module": "@jupyter-widgets/output",
      "model_module_version": "1.0.0",
      "model_name": "OutputModel",
      "state": {
       "layout": "IPY_MODEL_d78d04f7d86c497aa4130d6c1d26fb30",
       "outputs": [
        {
         "name": "stdout",
         "output_type": "stream",
         "text": "Slider says: 5\n"
        }
       ]
      }
     },
     "e5a55a3be828416685e910b7ea64db08": {
      "model_module": "@jupyter-widgets/base",
      "model_module_version": "1.2.0",
      "model_name": "LayoutModel",
      "state": {}
     },
     "e7677081c59e4aa4a81e57784fb13687": {
      "model_module": "@jupyter-widgets/base",
      "model_module_version": "1.2.0",
      "model_name": "LayoutModel",
      "state": {}
     },
     "e79544abf567432b999d5d56f16e97a3": {
      "model_module": "jupyter-matplotlib",
      "model_module_version": "^0.7.4",
      "model_name": "MPLCanvasModel",
      "state": {
       "_cursor": "default",
       "_figure_label": "Figure 18",
       "_height": 480,
       "_image_mode": "diff",
       "_width": 640,
       "layout": "IPY_MODEL_f75f50b8fb644de4bf9b7806975c5d0b",
       "toolbar": "IPY_MODEL_737d5c17527d499d973ee148cb1e0c73",
       "toolbar_position": "left"
      }
     },
     "e7c2fa004add4a479aa1b105e0facf22": {
      "model_module": "@jupyter-widgets/base",
      "model_module_version": "1.2.0",
      "model_name": "LayoutModel",
      "state": {}
     },
     "e8777edfb3494667990692f6c3f0ad50": {
      "model_module": "@jupyter-widgets/base",
      "model_module_version": "1.2.0",
      "model_name": "LayoutModel",
      "state": {}
     },
     "e87a34e827264b8dbd5b90823cbd7934": {
      "model_module": "@jupyter-widgets/controls",
      "model_module_version": "1.5.0",
      "model_name": "IntSliderModel",
      "state": {
       "description": "w",
       "layout": "IPY_MODEL_00385bdda365407d92df792ddeb0e329",
       "max": 10,
       "style": "IPY_MODEL_c3fac698bd204d90bdc58649a4788ed8",
       "value": 10
      }
     },
     "e8a669b8e0334d9d92a4292b26b41c4f": {
      "model_module": "@jupyter-widgets/base",
      "model_module_version": "1.2.0",
      "model_name": "LayoutModel",
      "state": {}
     },
     "ea174b7f1ce34072b2a068c56fbf361c": {
      "model_module": "@jupyter-widgets/base",
      "model_module_version": "1.2.0",
      "model_name": "LayoutModel",
      "state": {}
     },
     "eaee72e6ddd44f9b97c91ba30f0362e2": {
      "model_module": "@jupyter-widgets/base",
      "model_module_version": "1.2.0",
      "model_name": "LayoutModel",
      "state": {}
     },
     "ec169752402f407e80be7283bab3a479": {
      "model_module": "@jupyter-widgets/base",
      "model_module_version": "1.2.0",
      "model_name": "LayoutModel",
      "state": {}
     },
     "ec3bbb843e104191acd421d6e34db8c7": {
      "model_module": "@jupyter-widgets/controls",
      "model_module_version": "1.5.0",
      "model_name": "IntSliderModel",
      "state": {
       "description": "$\\omega$",
       "layout": "IPY_MODEL_e7c2fa004add4a479aa1b105e0facf22",
       "max": 10,
       "style": "IPY_MODEL_27da4380075d4d10b367a91b18bf0481",
       "value": 6
      }
     },
     "ec8ccc53944e4d9299e80ab3dcd9bfb6": {
      "model_module": "@jupyter-widgets/base",
      "model_module_version": "1.2.0",
      "model_name": "LayoutModel",
      "state": {}
     },
     "ed181d66dae74da2bc1012462bd8fabd": {
      "model_module": "@jupyter-widgets/base",
      "model_module_version": "1.2.0",
      "model_name": "LayoutModel",
      "state": {}
     },
     "ed92e008f03346519bec1e80640c85c8": {
      "model_module": "@jupyter-widgets/base",
      "model_module_version": "1.2.0",
      "model_name": "LayoutModel",
      "state": {}
     },
     "edb6495fa64941a88d433bd9532aaa8a": {
      "model_module": "@jupyter-widgets/base",
      "model_module_version": "1.2.0",
      "model_name": "LayoutModel",
      "state": {}
     },
     "ee117281621746bba8cb05c39786b9a7": {
      "model_module": "@jupyter-widgets/controls",
      "model_module_version": "1.5.0",
      "model_name": "FloatSliderModel",
      "state": {
       "description": "amp",
       "layout": "IPY_MODEL_ee9be0c59bbf4c0b8a7bd2872d918eb2",
       "max": 4,
       "step": 0.1,
       "style": "IPY_MODEL_f4163125cb80448fa4cfa368928f599d",
       "value": 1
      }
     },
     "ee9be0c59bbf4c0b8a7bd2872d918eb2": {
      "model_module": "@jupyter-widgets/base",
      "model_module_version": "1.2.0",
      "model_name": "LayoutModel",
      "state": {}
     },
     "efe024237fa24ad684f16c30bfa3c397": {
      "model_module": "@jupyter-widgets/controls",
      "model_module_version": "1.5.0",
      "model_name": "IntSliderModel",
      "state": {
       "continuous_update": false,
       "description": "$\\omega$",
       "layout": "IPY_MODEL_eaee72e6ddd44f9b97c91ba30f0362e2",
       "max": 10,
       "style": "IPY_MODEL_5b4160159a754e4b8c56024a94515a3b",
       "value": 1
      }
     },
     "f000debf295849b8ac02b8a94aea03bc": {
      "model_module": "@jupyter-widgets/controls",
      "model_module_version": "1.5.0",
      "model_name": "DescriptionStyleModel",
      "state": {
       "description_width": ""
      }
     },
     "f2cc9e99385243c68b90e18f10d5da50": {
      "model_module": "@jupyter-widgets/controls",
      "model_module_version": "1.5.0",
      "model_name": "FloatSliderModel",
      "state": {
       "description": "phi",
       "layout": "IPY_MODEL_4d1d9c3f72864bf9af51f71d3274d328",
       "max": 6.293185307179586,
       "step": 0.01,
       "style": "IPY_MODEL_8ad7728a26d74a6e9a4c9359d7d239fd",
       "value": 3.32
      }
     },
     "f3442d8682154e178f92cc985b284ca1": {
      "model_module": "@jupyter-widgets/base",
      "model_module_version": "1.2.0",
      "model_name": "LayoutModel",
      "state": {}
     },
     "f4163125cb80448fa4cfa368928f599d": {
      "model_module": "@jupyter-widgets/controls",
      "model_module_version": "1.5.0",
      "model_name": "SliderStyleModel",
      "state": {
       "description_width": ""
      }
     },
     "f6de8552afe94edcae89dbffd4293935": {
      "model_module": "@jupyter-widgets/controls",
      "model_module_version": "1.5.0",
      "model_name": "IntSliderModel",
      "state": {
       "description": "w",
       "layout": "IPY_MODEL_852db515b6b649afadeeb6776a1a5ea7",
       "max": 10,
       "style": "IPY_MODEL_d962a21cdb3f43cd8668749c708828ac",
       "value": 2
      }
     },
     "f75f50b8fb644de4bf9b7806975c5d0b": {
      "model_module": "@jupyter-widgets/base",
      "model_module_version": "1.2.0",
      "model_name": "LayoutModel",
      "state": {}
     },
     "f84a314526d745a59000d4c1d0d0ce23": {
      "model_module": "jupyter-matplotlib",
      "model_module_version": "^0.7.4",
      "model_name": "MPLCanvasModel",
      "state": {
       "_cursor": "default",
       "_figure_label": "Figure 20",
       "_height": 480,
       "_image_mode": "diff",
       "_width": 640,
       "layout": "IPY_MODEL_e48b313103a04b898c4a73b74074bf41",
       "toolbar": "IPY_MODEL_9e8ebda27a5142ddab206958d6084b97",
       "toolbar_position": "left"
      }
     },
     "f96d18fecc2c47b5bf4f456ba6d28d64": {
      "model_module": "jupyter-matplotlib",
      "model_module_version": "^0.7.4",
      "model_name": "ToolbarModel",
      "state": {
       "layout": "IPY_MODEL_96096c8154964a129210fa6cee08c169",
       "toolitems": [
        [
         "Home",
         "Reset original view",
         "home",
         "home"
        ],
        [
         "Back",
         "Back to previous view",
         "arrow-left",
         "back"
        ],
        [
         "Forward",
         "Forward to next view",
         "arrow-right",
         "forward"
        ],
        [
         "Pan",
         "Left button pans, Right button zooms\nx/y fixes axis, CTRL fixes aspect",
         "arrows",
         "pan"
        ],
        [
         "Zoom",
         "Zoom to rectangle\nx/y fixes axis, CTRL fixes aspect",
         "square-o",
         "zoom"
        ],
        [
         "Download",
         "Download plot",
         "floppy-o",
         "save_figure"
        ]
       ]
      }
     },
     "f97c7ee1f90246d2bdffd606d09e5cc3": {
      "model_module": "@jupyter-widgets/output",
      "model_module_version": "1.0.0",
      "model_name": "OutputModel",
      "state": {
       "layout": "IPY_MODEL_b58c2f3d129a4f708678cb6469e072e4",
       "outputs": [
        {
         "name": "stdout",
         "output_type": "stream",
         "text": "Widget says: 3\n"
        }
       ]
      }
     },
     "fa2dc7f5b75b4e16a90349fbf26c7d3d": {
      "model_module": "@jupyter-widgets/base",
      "model_module_version": "1.2.0",
      "model_name": "LayoutModel",
      "state": {}
     },
     "fbc59a5957ae4a0abab546daa96f4368": {
      "model_module": "@jupyter-widgets/base",
      "model_module_version": "1.2.0",
      "model_name": "LayoutModel",
      "state": {}
     },
     "fdc3d11dc6624f32ae4164234d6041d8": {
      "model_module": "@jupyter-widgets/base",
      "model_module_version": "1.2.0",
      "model_name": "LayoutModel",
      "state": {}
     }
    },
    "version_major": 2,
    "version_minor": 0
   }
  }
 },
 "nbformat": 4,
 "nbformat_minor": 4
}
